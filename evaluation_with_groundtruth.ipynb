{
 "cells": [
  {
   "cell_type": "code",
   "execution_count": 1,
   "id": "db020f9b-47c9-4de6-872f-ebf5397a40dc",
   "metadata": {},
   "outputs": [
    {
     "data": {
      "text/plain": [
       "[{'text': \"The purpose of this document is to capture frequently asked technical questions\\nThe exact day and hour of the course will be 15th Jan 2024 at 17h00. The course will start with the first  “Office Hours'' live.1\\nSubscribe to course public Google Calendar (it works from Desktop only).\\nRegister before the course starts using this link.\\nJoin the course Telegram channel with announcements.\\nDon’t forget to register in DataTalks.Club's Slack and join the channel.\",\n",
       "  'section': 'General course-related questions',\n",
       "  'question': 'Course - When will the course start?',\n",
       "  'course': 'data-engineering-zoomcamp',\n",
       "  'id': 0},\n",
       " {'text': 'GitHub - DataTalksClub data-engineering-zoomcamp#prerequisites',\n",
       "  'section': 'General course-related questions',\n",
       "  'question': 'Course - What are the prerequisites for this course?',\n",
       "  'course': 'data-engineering-zoomcamp',\n",
       "  'id': 1}]"
      ]
     },
     "execution_count": 1,
     "metadata": {},
     "output_type": "execute_result"
    }
   ],
   "source": [
    "import json\n",
    "\n",
    "with open(\"documents.json\", \"r\") as f:\n",
    "    documents_raw = json.load(f)\n",
    "\n",
    "documents = []\n",
    "\n",
    "for course_data in documents_raw:\n",
    "    for document in course_data['documents']:\n",
    "        document[\"course\"] = course_data[\"course\"]\n",
    "        documents.append(document)\n",
    "\n",
    "for i, doc in enumerate(documents):\n",
    "    doc['id'] = i\n",
    "\n",
    "documents[:2]"
   ]
  },
  {
   "cell_type": "code",
   "execution_count": 3,
   "id": "5b157ab2-110d-48eb-b3bd-c73d3ffdec2a",
   "metadata": {},
   "outputs": [],
   "source": [
    "prompt_template = \"\"\"\n",
    "You emulate a student who's taking our course.\n",
    "Formulate 5 questions this student might ask based on a FAQ record. The record\n",
    "should contain the answer to the questions, and the questions should be complete and not too short.\n",
    "If possible, use as fewer words as possible from the record. \n",
    "\n",
    "The record:\n",
    "\n",
    "section: {section}\n",
    "question: {question}\n",
    "answer: {text}\n",
    "\n",
    "Provide the output in parsable JSON without using code blocks:\n",
    "\n",
    "[\"question1\", \"question2\", ..., \"question5\"]\n",
    "\"\"\".strip()\n"
   ]
  },
  {
   "cell_type": "code",
   "execution_count": 22,
   "id": "e0f42d62-3d42-4496-b4bf-16697fce5e00",
   "metadata": {},
   "outputs": [],
   "source": [
    "from openai import OpenAI\n",
    "\n",
    "client = OpenAI(\n",
    "    base_url=\"http://localhost:11434/v1/\",\n",
    "    api_key=\"ollama\"\n",
    ")"
   ]
  },
  {
   "cell_type": "code",
   "execution_count": 23,
   "id": "5165f357-9a38-45ea-84e0-b5ce68132c24",
   "metadata": {},
   "outputs": [],
   "source": [
    "def generate_questions(doc, model_name):\n",
    "    prompt = prompt_template.format(**doc)\n",
    "\n",
    "    response = client.chat.completions.create(\n",
    "        model=model_name,\n",
    "        messages=[{\"role\": \"user\", \"content\": prompt}]\n",
    "    )\n",
    "\n",
    "    json_response = response.choices[0].message.content\n",
    "    return json_response\n"
   ]
  },
  {
   "cell_type": "code",
   "execution_count": 24,
   "id": "fadeb6e4-59ab-4201-ba7e-83751685a7bf",
   "metadata": {},
   "outputs": [
    {
     "data": {
      "text/plain": [
       "{'text': \"You don't need it. You're accepted. You can also just start learning and submitting homework without registering. It is not checked against any registered list. Registration is just to gauge interest before the start date.\",\n",
       " 'section': 'General course-related questions',\n",
       " 'question': 'Course - I have registered for the Data Engineering Bootcamp. When can I expect to receive the confirmation email?',\n",
       " 'course': 'data-engineering-zoomcamp',\n",
       " 'id': 3}"
      ]
     },
     "execution_count": 24,
     "metadata": {},
     "output_type": "execute_result"
    }
   ],
   "source": [
    "documents[3]"
   ]
  },
  {
   "cell_type": "code",
   "execution_count": 25,
   "id": "763af86f-d70d-4a2a-816e-229171e03779",
   "metadata": {},
   "outputs": [
    {
     "data": {
      "text/plain": [
       "'```json\\n[\\n  \"When was my registration for the Data Engineering Bootcamp confirmed?\",\\n  \"Is a confirmation email required after I register for the course you mentioned earlier today?\",\\n  \"What exactly does accessing and starting learning before formal enrollment entail without sending in courses as requested previously via requesting access based on interest alone?\"\\n]\\n```'"
      ]
     },
     "execution_count": 25,
     "metadata": {},
     "output_type": "execute_result"
    }
   ],
   "source": [
    "generate_questions(documents[3], \"phi3.5\")"
   ]
  },
  {
   "cell_type": "code",
   "execution_count": 27,
   "id": "21de739a-0266-4bfd-825f-2f9aa775803a",
   "metadata": {},
   "outputs": [],
   "source": [
    "import os\n",
    "\n",
    "client = OpenAI(\n",
    "    base_url=\"https://api.mistral.ai/v1\",\n",
    "    api_key=os.environ.get('MISTRAL_API_KEY')\n",
    ")"
   ]
  },
  {
   "cell_type": "code",
   "execution_count": 28,
   "id": "7c7f0fb5-b68e-4505-9898-b3037034d39a",
   "metadata": {},
   "outputs": [
    {
     "data": {
      "text/plain": [
       "'[\"When do I receive the confirmation email for the Data Engineering Bootcamp?\", \"Is the confirmation email necessary to start learning and submitting homework?\", \"Can I start learning and submitting homework without registering?\", \"Is the registration list checked against my submissions?\", \"What is the purpose of registration for the Data Engineering Bootcamp?\"]'"
      ]
     },
     "execution_count": 28,
     "metadata": {},
     "output_type": "execute_result"
    }
   ],
   "source": [
    "generate_questions(documents[3], \"open-mistral-nemo-2407\")"
   ]
  },
  {
   "cell_type": "code",
   "execution_count": 30,
   "id": "d4dea33d-f99b-4158-b93b-7eb890363eff",
   "metadata": {},
   "outputs": [
    {
     "data": {
      "text/plain": [
       "948"
      ]
     },
     "execution_count": 30,
     "metadata": {},
     "output_type": "execute_result"
    }
   ],
   "source": [
    "len(documents)"
   ]
  },
  {
   "cell_type": "code",
   "execution_count": 37,
   "id": "8d5c08a0-ce56-4bd6-aac3-cd35eb15ab78",
   "metadata": {},
   "outputs": [],
   "source": [
    "results = {}"
   ]
  },
  {
   "cell_type": "code",
   "execution_count": 41,
   "id": "db18bdb1-ed76-4baf-a381-d635f1042309",
   "metadata": {},
   "outputs": [],
   "source": [
    "from tqdm import tqdm\n",
    "import time\n",
    "\n",
    "def generate_ground_truth():\n",
    "    for doc in tqdm(documents):\n",
    "        doc_id = doc['id']\n",
    "        if doc_id in results:\n",
    "            continue\n",
    "        questions = generate_questions(doc, 'open-mistral-nemo-2407')\n",
    "        results[doc_id] = questions\n",
    "        time.sleep(1)"
   ]
  },
  {
   "cell_type": "code",
   "execution_count": 46,
   "id": "47ee8fe4-0887-4a40-91c6-3888fda294fa",
   "metadata": {},
   "outputs": [
    {
     "name": "stderr",
     "output_type": "stream",
     "text": [
      "  9%|██████▏                                                           | 89/948 [00:27<04:27,  3.22it/s]\n",
      " 11%|██████▊                                                          | 100/948 [00:37<05:14,  2.69it/s]\n",
      " 12%|███████▌                                                         | 110/948 [00:26<03:23,  4.11it/s]\n",
      " 13%|████████▎                                                        | 121/948 [00:34<03:58,  3.46it/s]\n",
      " 14%|█████████                                                        | 132/948 [00:32<03:21,  4.05it/s]\n",
      " 15%|█████████▊                                                       | 144/948 [00:35<03:19,  4.03it/s]\n",
      " 17%|███████████                                                      | 162/948 [00:57<04:38,  2.82it/s]\n",
      " 19%|████████████▏                                                    | 178/948 [00:43<03:06,  4.12it/s]\n",
      " 20%|████████████▉                                                    | 188/948 [00:26<01:47,  7.04it/s]\n",
      " 21%|█████████████▌                                                   | 198/948 [00:25<01:36,  7.80it/s]\n",
      " 43%|███████████████████████████▊                                     | 405/948 [13:44<18:25,  2.04s/it]\n",
      " 44%|████████████████████████████▌                                    | 416/948 [00:29<00:37, 14.11it/s]\n",
      " 45%|█████████████████████████████▏                                   | 426/948 [00:30<00:36, 14.19it/s]\n",
      " 46%|█████████████████████████████▉                                   | 436/948 [00:29<00:34, 14.96it/s]\n",
      " 47%|██████████████████████████████▌                                  | 445/948 [00:30<00:34, 14.79it/s]\n",
      " 48%|███████████████████████████████▏                                 | 455/948 [00:30<00:32, 15.15it/s]\n",
      " 49%|███████████████████████████████▉                                 | 465/948 [00:29<00:30, 15.62it/s]\n",
      " 50%|████████████████████████████████▌                                | 475/948 [00:30<00:30, 15.70it/s]\n",
      " 51%|█████████████████████████████████                                | 483/948 [00:24<00:23, 19.85it/s]\n",
      " 52%|█████████████████████████████████▉                               | 495/948 [00:34<00:31, 14.23it/s]\n",
      " 53%|██████████████████████████████████▌                              | 504/948 [00:30<00:27, 16.42it/s]\n",
      " 54%|███████████████████████████████████▏                             | 513/948 [00:23<00:20, 21.41it/s]\n",
      " 55%|████████████████████████████████████                             | 526/948 [00:44<00:35, 11.82it/s]\n",
      " 57%|████████████████████████████████████▉                            | 539/948 [00:40<00:31, 13.16it/s]\n",
      " 62%|████████████████████████████████████████                         | 585/948 [02:47<01:43,  3.49it/s]\n",
      " 66%|██████████████████████████████████████████▉                      | 627/948 [02:34<01:19,  4.06it/s]\n",
      " 68%|████████████████████████████████████████████                     | 642/948 [00:33<00:16, 19.07it/s]\n",
      " 69%|████████████████████████████████████████████▊                    | 654/948 [00:32<00:14, 19.85it/s]\n",
      " 71%|█████████████████████████████████████████████▉                   | 670/948 [00:50<00:20, 13.29it/s]\n",
      " 90%|██████████████████████████████████████████████████████████▌      | 855/948 [12:12<01:19,  1.17it/s]\n",
      " 92%|███████████████████████████████████████████████████████████▌     | 868/948 [00:35<00:03, 24.62it/s]\n",
      " 93%|████████████████████████████████████████████████████████████▌    | 883/948 [00:58<00:04, 15.12it/s]\n",
      " 98%|███████████████████████████████████████████████████████████████▍ | 925/948 [02:24<00:03,  6.39it/s]\n",
      "100%|█████████████████████████████████████████████████████████████████| 948/948 [01:20<00:00, 11.82it/s]\n"
     ]
    }
   ],
   "source": [
    "while len(results) < len(documents):\n",
    "    try:\n",
    "        generate_ground_truth()\n",
    "    except Exception:\n",
    "        time.sleep(30)"
   ]
  },
  {
   "cell_type": "code",
   "execution_count": 54,
   "id": "e4852d93-cfb6-4d72-8dac-5d41aab3fcdf",
   "metadata": {},
   "outputs": [],
   "source": [
    "with open(\"ground_truth.json\", \"wt\") as f:\n",
    "    json.dump(results, f, indent=2)"
   ]
  },
  {
   "cell_type": "code",
   "execution_count": 2,
   "id": "4bfc7d20-aa5d-458c-af81-1c99db459e8e",
   "metadata": {},
   "outputs": [],
   "source": [
    "with open(\"ground_truth.json\", \"rt\") as f:\n",
    "    document_questions = json.load(f)"
   ]
  },
  {
   "cell_type": "code",
   "execution_count": 138,
   "id": "941b37f9-0be1-4baf-b0d5-a240ae84dbf2",
   "metadata": {},
   "outputs": [],
   "source": [
    "parsed_questions = {}\n",
    "for doc_id, questions in document_questions.items():\n",
    "    try:\n",
    "        parsed_questions[int(doc_id)] = json.loads(questions)\n",
    "    except json.JSONDecodeError:\n",
    "        pass"
   ]
  },
  {
   "cell_type": "code",
   "execution_count": 141,
   "id": "d1aea769-18ae-4be6-8e1b-a6c2d5829bd1",
   "metadata": {},
   "outputs": [
    {
     "data": {
      "text/plain": [
       "934"
      ]
     },
     "execution_count": 141,
     "metadata": {},
     "output_type": "execute_result"
    }
   ],
   "source": [
    "len(parsed_questions)"
   ]
  },
  {
   "cell_type": "code",
   "execution_count": 142,
   "id": "c4899941-fa44-46d7-a5a0-c0b6bd1cc473",
   "metadata": {},
   "outputs": [
    {
     "data": {
      "text/plain": [
       "[{'text': \"The purpose of this document is to capture frequently asked technical questions\\nThe exact day and hour of the course will be 15th Jan 2024 at 17h00. The course will start with the first  “Office Hours'' live.1\\nSubscribe to course public Google Calendar (it works from Desktop only).\\nRegister before the course starts using this link.\\nJoin the course Telegram channel with announcements.\\nDon’t forget to register in DataTalks.Club's Slack and join the channel.\",\n",
       "  'section': 'General course-related questions',\n",
       "  'question': 'Course - When will the course start?',\n",
       "  'course': 'data-engineering-zoomcamp',\n",
       "  'id': 0},\n",
       " {'text': 'GitHub - DataTalksClub data-engineering-zoomcamp#prerequisites',\n",
       "  'section': 'General course-related questions',\n",
       "  'question': 'Course - What are the prerequisites for this course?',\n",
       "  'course': 'data-engineering-zoomcamp',\n",
       "  'id': 1}]"
      ]
     },
     "execution_count": 142,
     "metadata": {},
     "output_type": "execute_result"
    }
   ],
   "source": [
    "documents[:2]"
   ]
  },
  {
   "cell_type": "code",
   "execution_count": 145,
   "id": "1f681148-de6a-444b-bf95-896506e9653a",
   "metadata": {},
   "outputs": [],
   "source": [
    "final_results = []\n",
    "for doc_id, questions in parsed_questions.items():\n",
    "    course = documents[doc_id][\"course\"]\n",
    "    for question in questions:\n",
    "        final_results.append((question, course, doc_id))"
   ]
  },
  {
   "cell_type": "code",
   "execution_count": 149,
   "id": "eed8f5ea-647c-4db2-874e-b0127ed3e8b4",
   "metadata": {},
   "outputs": [],
   "source": [
    "import csv\n",
    "\n",
    "with open('ground_truth_data.csv', 'wt') as f:\n",
    "    writer = csv.writer(f)\n",
    "    writer.writerow(('question', 'course', 'document'))\n",
    "    for row in final_results:\n",
    "        writer.writerow(row)\n"
   ]
  },
  {
   "cell_type": "code",
   "execution_count": 151,
   "id": "9018cd4c-f85a-435a-9ab7-36f0b3c60529",
   "metadata": {},
   "outputs": [
    {
     "name": "stdout",
     "output_type": "stream",
     "text": [
      "What is the issue with the isort pre-commit command?,mlops-zoomcamp,946\n",
      "How can I resolve the isort pre-commit command failure?,mlops-zoomcamp,946\n",
      "What version of isort should I use to fix this issue?,mlops-zoomcamp,946\n",
      "Who added this solution to the record?,mlops-zoomcamp,946\n",
      "What is the specific problem described in this record?,mlops-zoomcamp,946\n",
      "How do I remove AWS infrastructure set up using GitHub Actions?,mlops-zoomcamp,947\n",
      "What are the steps to destroy resources created via CD-Deploy Action?,mlops-zoomcamp,947\n",
      "How can I initialize Terraform for destroying infrastructure?,mlops-zoomcamp,947\n",
      "What command is used to destroy the infrastructure?,mlops-zoomcamp,947\n",
      "How do I specify the variables file for Terraform destroy?,mlops-zoomcamp,947\n"
     ]
    }
   ],
   "source": [
    "!tail ground_truth_data.csv"
   ]
  },
  {
   "cell_type": "code",
   "execution_count": null,
   "id": "16538c12-2b7d-4eff-a454-a2a998d6b9d4",
   "metadata": {},
   "outputs": [],
   "source": []
  },
  {
   "cell_type": "code",
   "execution_count": 155,
   "id": "912de634-ce00-4ffe-8b7a-8cab8164a763",
   "metadata": {},
   "outputs": [
    {
     "data": {
      "text/plain": [
       "ObjectApiResponse({'acknowledged': True, 'shards_acknowledged': True, 'index': 'course-questions'})"
      ]
     },
     "execution_count": 155,
     "metadata": {},
     "output_type": "execute_result"
    }
   ],
   "source": [
    "from elasticsearch import Elasticsearch\n",
    "\n",
    "es_client = Elasticsearch('http://localhost:9200') \n",
    "\n",
    "index_settings = {\n",
    "    \"settings\": {\n",
    "        \"number_of_shards\": 1,\n",
    "        \"number_of_replicas\": 0\n",
    "    },\n",
    "    \"mappings\": {\n",
    "        \"properties\": {\n",
    "            \"text\": {\"type\": \"text\"},\n",
    "            \"section\": {\"type\": \"text\"},\n",
    "            \"question\": {\"type\": \"text\"},\n",
    "            \"course\": {\"type\": \"keyword\"},\n",
    "            \"id\": {\"type\": \"keyword\"},\n",
    "        }\n",
    "    }\n",
    "}\n",
    "\n",
    "index_name = \"course-questions\"\n",
    "\n",
    "es_client.indices.delete(index=index_name, ignore_unavailable=True)\n",
    "es_client.indices.create(index=index_name, body=index_settings)\n"
   ]
  },
  {
   "cell_type": "code",
   "execution_count": 156,
   "id": "e668bcef-38a1-4710-b5d4-b45243d8e859",
   "metadata": {},
   "outputs": [
    {
     "name": "stderr",
     "output_type": "stream",
     "text": [
      "/home/krm/projects/faq-rag/.venv/lib/python3.12/site-packages/tqdm/auto.py:21: TqdmWarning: IProgress not found. Please update jupyter and ipywidgets. See https://ipywidgets.readthedocs.io/en/stable/user_install.html\n",
      "  from .autonotebook import tqdm as notebook_tqdm\n",
      "100%|█████████████████████████████████████████████████████████████████| 948/948 [00:15<00:00, 61.31it/s]\n"
     ]
    }
   ],
   "source": [
    "from tqdm.auto import tqdm\n",
    "\n",
    "for doc in tqdm(documents):\n",
    "    es_client.index(index=index_name, document=doc)"
   ]
  },
  {
   "cell_type": "code",
   "execution_count": 157,
   "id": "b1397095-0c0f-429c-bb90-6a08bfaf7f4a",
   "metadata": {},
   "outputs": [],
   "source": [
    "def elastic_search(query, course):\n",
    "    search_query = {\n",
    "        \"size\": 5,\n",
    "        \"query\": {\n",
    "            \"bool\": {\n",
    "                \"must\": {\n",
    "                    \"multi_match\": {\n",
    "                        \"query\": query,\n",
    "                        \"fields\": [\"question^3\", \"text\", \"section\"],\n",
    "                        \"type\": \"best_fields\"\n",
    "                    }\n",
    "                },\n",
    "                \"filter\": {\n",
    "                    \"term\": {\n",
    "                        \"course\": course\n",
    "                    }\n",
    "                }\n",
    "            }\n",
    "        }\n",
    "    }\n",
    "\n",
    "    response = es_client.search(index=index_name, body=search_query)\n",
    "    \n",
    "    result_docs = []\n",
    "    \n",
    "    for hit in response['hits']['hits']:\n",
    "        result_docs.append(hit['_source'])\n",
    "    \n",
    "    return result_docs"
   ]
  },
  {
   "cell_type": "code",
   "execution_count": 161,
   "id": "289169d1-8a10-4b9e-9651-7e6ad81694ff",
   "metadata": {},
   "outputs": [
    {
     "data": {
      "text/plain": [
       "['data-engineering-zoomcamp', 'machine-learning-zoomcamp', 'mlops-zoomcamp']"
      ]
     },
     "execution_count": 161,
     "metadata": {},
     "output_type": "execute_result"
    }
   ],
   "source": [
    "[k['course'] for k in documents_raw]"
   ]
  },
  {
   "cell_type": "code",
   "execution_count": 169,
   "id": "8a34562b-e596-4ff8-b5f6-e11e59aee28c",
   "metadata": {},
   "outputs": [],
   "source": [
    "query = \"what are the requirements needed to take the course?\"\n",
    "course = \"data-engineering-zoomcamp\""
   ]
  },
  {
   "cell_type": "code",
   "execution_count": 170,
   "id": "059aaced-d6ce-404c-930b-ff55746a2766",
   "metadata": {},
   "outputs": [
    {
     "data": {
      "text/plain": [
       "[{'text': 'GitHub - DataTalksClub data-engineering-zoomcamp#prerequisites',\n",
       "  'section': 'General course-related questions',\n",
       "  'question': 'Course - What are the prerequisites for this course?',\n",
       "  'course': 'data-engineering-zoomcamp',\n",
       "  'id': 1},\n",
       " {'text': 'Yes, the slack channel remains open and you can ask questions there. But always sDocker containers exit code w search the channel first and second, check the FAQ (this document), most likely all your questions are already answered here.\\nYou can also tag the bot @ZoomcampQABot to help you conduct the search, but don’t rely on its answers 100%, it is pretty good though.',\n",
       "  'section': 'General course-related questions',\n",
       "  'question': 'Course - Can I get support if I take the course in the self-paced mode?',\n",
       "  'course': 'data-engineering-zoomcamp',\n",
       "  'id': 8},\n",
       " {'text': 'You can start by installing and setting up all the dependencies and requirements:\\nGoogle cloud account\\nGoogle Cloud SDK\\nPython 3 (installed with Anaconda)\\nTerraform\\nGit\\nLook over the prerequisites and syllabus to see if you are comfortable with these subjects.',\n",
       "  'section': 'General course-related questions',\n",
       "  'question': 'Course - What can I do before the course starts?',\n",
       "  'course': 'data-engineering-zoomcamp',\n",
       "  'id': 4},\n",
       " {'text': 'After you submit your homework it will be graded based on the amount of questions in a particular homework. You can see how many points you have right on the page of the homework up top. Additionally in the leaderboard you will find the sum of all points you’ve earned - points for Homeworks, FAQs and Learning in Public. If homework is clear, others work as follows: if you submit something to FAQ, you get one point, for each learning in a public link you get one point.\\n(https://datatalks-club.slack.com/archives/C01FABYF2RG/p1706846846359379?thread_ts=1706825019.546229&cid=C01FABYF2RG)',\n",
       "  'section': 'General course-related questions',\n",
       "  'question': 'Homework and Leaderboard - what is the system for points in the course management platform?',\n",
       "  'course': 'data-engineering-zoomcamp',\n",
       "  'id': 17},\n",
       " {'text': 'Star the repo! Share it with friends if you find it useful ❣️\\nCreate a PR if you see you can improve the text or the structure of the repository.',\n",
       "  'section': 'General course-related questions',\n",
       "  'question': 'How can we contribute to the course?',\n",
       "  'course': 'data-engineering-zoomcamp',\n",
       "  'id': 34}]"
      ]
     },
     "execution_count": 170,
     "metadata": {},
     "output_type": "execute_result"
    }
   ],
   "source": [
    "elastic_search(query, course)"
   ]
  },
  {
   "cell_type": "code",
   "execution_count": 171,
   "id": "7b1e4ae3-67ef-4913-bd6a-1bc57c80fe73",
   "metadata": {},
   "outputs": [],
   "source": [
    "import pandas as pd"
   ]
  },
  {
   "cell_type": "code",
   "execution_count": 175,
   "id": "058f31c6-8a91-4170-8696-26c31462ccd7",
   "metadata": {},
   "outputs": [
    {
     "data": {
      "text/plain": [
       "[{'question': 'When does the course start?',\n",
       "  'course': 'data-engineering-zoomcamp',\n",
       "  'document': 0},\n",
       " {'question': 'What is the exact time the course begins?',\n",
       "  'course': 'data-engineering-zoomcamp',\n",
       "  'document': 0},\n",
       " {'question': 'How can I subscribe to the course calendar?',\n",
       "  'course': 'data-engineering-zoomcamp',\n",
       "  'document': 0},\n",
       " {'question': 'How do I register for the course before it starts?',\n",
       "  'course': 'data-engineering-zoomcamp',\n",
       "  'document': 0},\n",
       " {'question': 'What is the link to register for the course?',\n",
       "  'course': 'data-engineering-zoomcamp',\n",
       "  'document': 0}]"
      ]
     },
     "execution_count": 175,
     "metadata": {},
     "output_type": "execute_result"
    }
   ],
   "source": [
    "df_ground_truth = pd.read_csv('ground_truth_data.csv')\n",
    "ground_truth = df_ground_truth.to_dict(orient='records')\n",
    "ground_truth[:5]"
   ]
  },
  {
   "cell_type": "code",
   "execution_count": 178,
   "id": "e72e1f52-fdb2-4965-a078-f77f61e7544c",
   "metadata": {},
   "outputs": [
    {
     "name": "stderr",
     "output_type": "stream",
     "text": [
      "100%|██████████████████████████████████████████████████████████████| 4666/4666 [00:12<00:00, 367.00it/s]\n"
     ]
    }
   ],
   "source": [
    "relevance_total = []\n",
    "\n",
    "for q in tqdm(ground_truth):\n",
    "    results = elastic_search(q['question'], q['course'])\n",
    "    relevance = [q['document'] == r['id'] for r in results]\n",
    "    relevance_total.append(relevance)"
   ]
  },
  {
   "cell_type": "code",
   "execution_count": 180,
   "id": "5ac0d441-4059-4009-8b09-e070e0d11dd6",
   "metadata": {},
   "outputs": [
    {
     "data": {
      "text/plain": [
       "([[True, False, False, False, False],\n",
       "  [False, False, False, False, False],\n",
       "  [False, False, False, False, False],\n",
       "  [False, False, False, False, False],\n",
       "  [False, False, False, False, False]],\n",
       " 4666)"
      ]
     },
     "execution_count": 180,
     "metadata": {},
     "output_type": "execute_result"
    }
   ],
   "source": [
    "relevance_total[:5], len(relevance_total)"
   ]
  },
  {
   "cell_type": "code",
   "execution_count": 186,
   "id": "d8d625a4-a745-425f-b098-78b82b8950c3",
   "metadata": {},
   "outputs": [],
   "source": [
    "def hit_rate(relevance_total):\n",
    "    target_found = [any(results) for results in relevance_total]\n",
    "    hit_count = sum(target_found)\n",
    "    return hit_count / len(relevance_total) "
   ]
  },
  {
   "cell_type": "code",
   "execution_count": 206,
   "id": "0e1b665a-76e4-46bb-8d3a-01384fe4c3ff",
   "metadata": {},
   "outputs": [
    {
     "data": {
      "text/plain": [
       "0.2"
      ]
     },
     "execution_count": 206,
     "metadata": {},
     "output_type": "execute_result"
    }
   ],
   "source": [
    "hit_rate(relevance_total[:5])"
   ]
  },
  {
   "cell_type": "code",
   "execution_count": 207,
   "id": "7023271e-2794-460a-a716-e3b61f369da9",
   "metadata": {},
   "outputs": [],
   "source": [
    "def mrr_score(row):\n",
    "    rank = 0\n",
    "    for i, r in enumerate(row):\n",
    "        if r:\n",
    "            rank = 1/(i+1)\n",
    "    return rank"
   ]
  },
  {
   "cell_type": "code",
   "execution_count": 208,
   "id": "240b8ca0-8c9f-4cd4-aa54-68ba20dba385",
   "metadata": {},
   "outputs": [],
   "source": [
    "def mrr(relevance_total):\n",
    "    scores = [mrr_score(r) for r in relevance_total]\n",
    "    total_score = sum(scores)\n",
    "    return total_score / len(relevance_total)"
   ]
  },
  {
   "cell_type": "code",
   "execution_count": 209,
   "id": "e1e516e5-6a49-45e1-b291-6ada819f16ef",
   "metadata": {},
   "outputs": [
    {
     "data": {
      "text/plain": [
       "0.2"
      ]
     },
     "execution_count": 209,
     "metadata": {},
     "output_type": "execute_result"
    }
   ],
   "source": [
    "mrr(relevance_total[:5])"
   ]
  },
  {
   "cell_type": "code",
   "execution_count": 210,
   "id": "e63cb159-c095-4b73-9309-8d1248b7801f",
   "metadata": {},
   "outputs": [
    {
     "data": {
      "text/plain": [
       "(0.7089584226318045, 0.5789362766109444)"
      ]
     },
     "execution_count": 210,
     "metadata": {},
     "output_type": "execute_result"
    }
   ],
   "source": [
    "hit_rate(relevance_total), mrr(relevance_total)"
   ]
  },
  {
   "cell_type": "markdown",
   "id": "984b7b77-b978-4dd4-864e-6da06249fc9b",
   "metadata": {},
   "source": [
    "## Vector Search Evaluation"
   ]
  },
  {
   "cell_type": "code",
   "execution_count": 212,
   "id": "c3a26323-8a0a-4377-a2ff-3584183da39c",
   "metadata": {},
   "outputs": [],
   "source": [
    "from sentence_transformers import SentenceTransformer"
   ]
  },
  {
   "cell_type": "code",
   "execution_count": 213,
   "id": "7ad0ddb9-42ed-4ac0-ba8d-a5ccea0e4bcd",
   "metadata": {},
   "outputs": [
    {
     "name": "stderr",
     "output_type": "stream",
     "text": [
      "/home/krm/projects/faq-rag/.venv/lib/python3.12/site-packages/transformers/tokenization_utils_base.py:1601: FutureWarning: `clean_up_tokenization_spaces` was not set. It will be set to `True` by default. This behavior will be depracted in transformers v4.45, and will be then set to `False` by default. For more details check this issue: https://github.com/huggingface/transformers/issues/31884\n",
      "  warnings.warn(\n"
     ]
    }
   ],
   "source": [
    "model_name = \"multi-qa-MiniLM-L6-cos-v1\"\n",
    "model = SentenceTransformer(model_name)"
   ]
  },
  {
   "cell_type": "code",
   "execution_count": 215,
   "id": "20a0d09c-9ac0-461b-b847-78a8ebc992d7",
   "metadata": {},
   "outputs": [
    {
     "data": {
      "text/plain": [
       "(384,)"
      ]
     },
     "execution_count": 215,
     "metadata": {},
     "output_type": "execute_result"
    }
   ],
   "source": [
    "vectorized_query = model.encode(\"I just discovered the course. Can I still join?\")\n",
    "vectorized_query.shape"
   ]
  },
  {
   "cell_type": "code",
   "execution_count": 216,
   "id": "2f872ce2-d955-444e-a11b-a03c3a0b2ae7",
   "metadata": {},
   "outputs": [
    {
     "data": {
      "text/plain": [
       "np.float32(1.0)"
      ]
     },
     "execution_count": 216,
     "metadata": {},
     "output_type": "execute_result"
    }
   ],
   "source": [
    "vectorized_query.dot(vectorized_query)"
   ]
  },
  {
   "cell_type": "code",
   "execution_count": 217,
   "id": "d48b342f-9518-4f44-976f-55f07289eb31",
   "metadata": {},
   "outputs": [
    {
     "data": {
      "text/plain": [
       "ObjectApiResponse({'acknowledged': True, 'shards_acknowledged': True, 'index': 'course-questions'})"
      ]
     },
     "execution_count": 217,
     "metadata": {},
     "output_type": "execute_result"
    }
   ],
   "source": [
    "index_settings = {\n",
    "    \"settings\": {\n",
    "        \"number_of_shards\": 1,\n",
    "        \"number_of_replicas\": 0\n",
    "    },\n",
    "    \"mappings\": {\n",
    "        \"properties\": {\n",
    "            \"text\": {\"type\": \"text\"},\n",
    "            \"section\": {\"type\": \"text\"},\n",
    "            \"question\": {\"type\": \"text\"},\n",
    "            \"course\": {\"type\": \"keyword\"},\n",
    "            \"id\": {\"type\": \"keyword\"},\n",
    "            \"question_vector\": {\n",
    "                \"type\": \"dense_vector\",\n",
    "                \"dims\": 384,\n",
    "                \"index\": True,\n",
    "                \"similarity\": \"cosine\"\n",
    "            },\n",
    "            \"text_vector\": {\n",
    "                \"type\": \"dense_vector\",\n",
    "                \"dims\": 384,\n",
    "                \"index\": True,\n",
    "                \"similarity\": \"cosine\"\n",
    "            },\n",
    "            \"question_text_vector\": {\n",
    "                \"type\": \"dense_vector\",\n",
    "                \"dims\": 384,\n",
    "                \"index\": True,\n",
    "                \"similarity\": \"cosine\"\n",
    "            },\n",
    "        }\n",
    "    }\n",
    "}\n",
    "\n",
    "index_name = \"course-questions\"\n",
    "\n",
    "es_client.indices.delete(index=index_name, ignore_unavailable=True)\n",
    "es_client.indices.create(index=index_name, body=index_settings)"
   ]
  },
  {
   "cell_type": "code",
   "execution_count": 220,
   "id": "b0303e38-62fe-4ca8-ae97-0df70d65fb4c",
   "metadata": {},
   "outputs": [
    {
     "name": "stderr",
     "output_type": "stream",
     "text": [
      "100%|█████████████████████████████████████████████████████████████████| 948/948 [01:48<00:00,  8.71it/s]\n"
     ]
    }
   ],
   "source": [
    "for doc in tqdm(documents):\n",
    "    doc['question_vector'] = model.encode(doc['question'])\n",
    "    doc['text_vector'] = model.encode(doc['text'])\n",
    "    doc['question_text_vector'] = model.encode(doc['question'] + ' ' + doc['text'])\n",
    "    es_client.index(index=index_name, document=doc)"
   ]
  },
  {
   "cell_type": "code",
   "execution_count": 221,
   "id": "2fa35db5-8b6f-4dac-9ec6-4f7204099368",
   "metadata": {},
   "outputs": [],
   "source": [
    "search_query = {\n",
    "    'field': 'question_vector',\n",
    "    'query_vector': vectorized_query,\n",
    "    'k': 5,\n",
    "    'num_candidates': 10000\n",
    "}\n",
    "\n",
    "es_results = es_client.search(\n",
    "    index=index_name,\n",
    "    knn=search_query,\n",
    "    source=['text', 'section', 'question', 'course', 'id']\n",
    ")\n"
   ]
  },
  {
   "cell_type": "code",
   "execution_count": 223,
   "id": "6ab098d3-3016-4b9e-ac5d-de4ce055c3da",
   "metadata": {},
   "outputs": [
    {
     "data": {
      "text/plain": [
       "[{'question': 'The course has already started. Can I still join it?',\n",
       "  'course': 'machine-learning-zoomcamp',\n",
       "  'section': 'General course-related questions',\n",
       "  'text': 'Yes, you can. You won’t be able to submit some of the homeworks, but you can still take part in the course.\\nIn order to get a certificate, you need to submit 2 out of 3 course projects and review 3 peers’ Projects by the deadline. It means that if you join the course at the end of November and manage to work on two projects, you will still be eligible for a certificate.',\n",
       "  'id': 449},\n",
       " {'question': 'Course - Can I still join the course after the start date?',\n",
       "  'course': 'data-engineering-zoomcamp',\n",
       "  'section': 'General course-related questions',\n",
       "  'text': \"Yes, even if you don't register, you're still eligible to submit the homeworks.\\nBe aware, however, that there will be deadlines for turning in the final projects. So don't leave everything for the last minute.\",\n",
       "  'id': 2},\n",
       " {'question': 'Course - Can I follow the course after it finishes?',\n",
       "  'course': 'data-engineering-zoomcamp',\n",
       "  'section': 'General course-related questions',\n",
       "  'text': 'Yes, we will keep all the materials after the course finishes, so you can follow the course at your own pace after it finishes.\\nYou can also continue looking at the homeworks and continue preparing for the next cohort. I guess you can also start working on your final capstone project.',\n",
       "  'id': 7},\n",
       " {'question': 'I just joined. What should I do next? How can I access course materials?',\n",
       "  'course': 'machine-learning-zoomcamp',\n",
       "  'section': 'General course-related questions',\n",
       "  'text': 'Welcome to the course! Go to the course page (http://mlzoomcamp.com/), scroll down and start going through the course materials. Then read everything in the cohort folder for your cohort’s year.\\nClick on the links and start watching the videos. Also watch office hours from previous cohorts. Go to DTC youtube channel and click on Playlists and search for {course yyyy}. ML Zoomcamp was first launched in 2021.\\nOr you can just use this link: http://mlzoomcamp.com/#syllabus',\n",
       "  'id': 452},\n",
       " {'question': 'How can we contribute to the course?',\n",
       "  'course': 'data-engineering-zoomcamp',\n",
       "  'section': 'General course-related questions',\n",
       "  'text': 'Star the repo! Share it with friends if you find it useful ❣️\\nCreate a PR if you see you can improve the text or the structure of the repository.',\n",
       "  'id': 34}]"
      ]
     },
     "execution_count": 223,
     "metadata": {},
     "output_type": "execute_result"
    }
   ],
   "source": [
    "[hit['_source'] for hit in es_results['hits']['hits']]"
   ]
  },
  {
   "cell_type": "code",
   "execution_count": 224,
   "id": "de1051a5-c98a-410f-ad1b-a86cad0b18df",
   "metadata": {},
   "outputs": [],
   "source": [
    "def elastic_search_knn(query_field, query_vector, course):\n",
    "    knn = {\n",
    "        \"field\": query_field,\n",
    "        \"query_vector\": query_vector,\n",
    "        \"k\": 5,\n",
    "        \"num_candidates\": 10000,\n",
    "        \"filter\": {\n",
    "            \"term\": {\n",
    "                \"course\": course\n",
    "            }\n",
    "        }\n",
    "    }\n",
    "\n",
    "    search_query = {\n",
    "        \"knn\": knn,\n",
    "        \"_source\": [\"text\", \"section\", \"question\", \"course\", \"id\"]\n",
    "    }\n",
    "\n",
    "    es_results = es_client.search(\n",
    "        index=index_name,\n",
    "        body=search_query\n",
    "    )\n",
    "    \n",
    "    result_docs = []\n",
    "    \n",
    "    for hit in es_results['hits']['hits']:\n",
    "        result_docs.append(hit['_source'])\n",
    "\n",
    "    return result_docs"
   ]
  },
  {
   "cell_type": "code",
   "execution_count": 226,
   "id": "922ecd14-1df0-4331-bd08-bb88f62dff18",
   "metadata": {},
   "outputs": [
    {
     "data": {
      "text/plain": [
       "[{'question': 'Certificate - Can I follow the course in a self-paced mode and get a certificate?',\n",
       "  'course': 'data-engineering-zoomcamp',\n",
       "  'section': 'General course-related questions',\n",
       "  'text': \"No, you can only get a certificate if you finish the course with a “live” cohort. We don't award certificates for the self-paced mode. The reason is you need to peer-review capstone(s) after submitting a project. You can only peer-review projects at the time the course is running.\",\n",
       "  'id': 11},\n",
       " {'question': 'Course - Can I follow the course after it finishes?',\n",
       "  'course': 'data-engineering-zoomcamp',\n",
       "  'section': 'General course-related questions',\n",
       "  'text': 'Yes, we will keep all the materials after the course finishes, so you can follow the course at your own pace after it finishes.\\nYou can also continue looking at the homeworks and continue preparing for the next cohort. I guess you can also start working on your final capstone project.',\n",
       "  'id': 7},\n",
       " {'question': 'Course - I have registered for the Data Engineering Bootcamp. When can I expect to receive the confirmation email?',\n",
       "  'course': 'data-engineering-zoomcamp',\n",
       "  'section': 'General course-related questions',\n",
       "  'text': \"You don't need it. You're accepted. You can also just start learning and submitting homework without registering. It is not checked against any registered list. Registration is just to gauge interest before the start date.\",\n",
       "  'id': 3},\n",
       " {'question': 'Project 1 & Project 2',\n",
       "  'course': 'data-engineering-zoomcamp',\n",
       "  'section': 'Project',\n",
       "  'text': 'There is only ONE project for this Zoomcamp. You do not need to submit or create two projects. There are simply TWO chances to pass the course. You can use the Second Attempt if you a) fail the first attempt b) do not have the time due to other engagements such as holiday or sickness etc. to enter your project into the first attempt.',\n",
       "  'id': 396},\n",
       " {'question': 'Course - Can I still join the course after the start date?',\n",
       "  'course': 'data-engineering-zoomcamp',\n",
       "  'section': 'General course-related questions',\n",
       "  'text': \"Yes, even if you don't register, you're still eligible to submit the homeworks.\\nBe aware, however, that there will be deadlines for turning in the final projects. So don't leave everything for the last minute.\",\n",
       "  'id': 2}]"
      ]
     },
     "execution_count": 226,
     "metadata": {},
     "output_type": "execute_result"
    }
   ],
   "source": [
    "elastic_search_knn('text_vector', vectorized_query, 'data-engineering-zoomcamp')"
   ]
  },
  {
   "cell_type": "code",
   "execution_count": 228,
   "id": "ba481516-1111-46c6-813b-956429592c9a",
   "metadata": {},
   "outputs": [],
   "source": [
    "def question_vector_knn(q):\n",
    "    question = q['question']\n",
    "    course = q['course']\n",
    "\n",
    "    v_q = model.encode(question)\n",
    "\n",
    "    return elastic_search_knn('question_vector', v_q, course)"
   ]
  },
  {
   "cell_type": "code",
   "execution_count": 229,
   "id": "8f702041-ca8e-438f-9cbb-866196d5a023",
   "metadata": {},
   "outputs": [],
   "source": [
    "def evaluate(ground_truth, search_function):\n",
    "    relevance_total = []\n",
    "\n",
    "    for q in tqdm(ground_truth):\n",
    "        doc_id = q['document']\n",
    "        results = search_function(q)\n",
    "        relevance = [d['id'] == doc_id for d in results]\n",
    "        relevance_total.append(relevance)\n",
    "\n",
    "    return {\n",
    "        'hit_rate': hit_rate(relevance_total),\n",
    "        'mrr': mrr(relevance_total),\n",
    "    }"
   ]
  },
  {
   "cell_type": "code",
   "execution_count": 231,
   "id": "1da3b838-fa5f-4ee2-a608-2c51f09cf57f",
   "metadata": {},
   "outputs": [
    {
     "name": "stderr",
     "output_type": "stream",
     "text": [
      "100%|███████████████████████████████████████████████████████████████| 4666/4666 [01:23<00:00, 55.60it/s]\n"
     ]
    },
    {
     "data": {
      "text/plain": [
       "{'hit_rate': 0.7344620660094299, 'mrr': 0.624807115302186}"
      ]
     },
     "execution_count": 231,
     "metadata": {},
     "output_type": "execute_result"
    }
   ],
   "source": [
    "evaluate(ground_truth, question_vector_knn)"
   ]
  },
  {
   "cell_type": "code",
   "execution_count": 232,
   "id": "4cde7fbb-3d41-4fd6-8648-136b5675b10a",
   "metadata": {},
   "outputs": [],
   "source": [
    "def text_vector_knn(q):\n",
    "    question = q['question']\n",
    "    course = q['course']\n",
    "\n",
    "    v_q = model.encode(question)\n",
    "\n",
    "    return elastic_search_knn('text_vector', v_q, course)"
   ]
  },
  {
   "cell_type": "code",
   "execution_count": 233,
   "id": "bbd31901-6688-4927-8d7c-e4b755aefabf",
   "metadata": {},
   "outputs": [],
   "source": [
    "def question_text_vector_knn(q):\n",
    "    question = q['question']\n",
    "    course = q['course']\n",
    "\n",
    "    v_q = model.encode(question)\n",
    "\n",
    "    return elastic_search_knn('question_text_vector', v_q, course)"
   ]
  },
  {
   "cell_type": "code",
   "execution_count": 234,
   "id": "0949dafd-374e-42e8-94a1-af921c46323e",
   "metadata": {},
   "outputs": [
    {
     "name": "stderr",
     "output_type": "stream",
     "text": [
      "100%|███████████████████████████████████████████████████████████████| 4666/4666 [05:38<00:00, 13.79it/s]\n"
     ]
    },
    {
     "data": {
      "text/plain": [
       "{'hit_rate': 0.8159022717531076, 'mrr': 0.6827689669952851}"
      ]
     },
     "execution_count": 234,
     "metadata": {},
     "output_type": "execute_result"
    }
   ],
   "source": [
    "evaluate(ground_truth, text_vector_knn)"
   ]
  },
  {
   "cell_type": "code",
   "execution_count": 235,
   "id": "9d2369ef-552f-44d2-bbc3-74e145fe5946",
   "metadata": {},
   "outputs": [
    {
     "name": "stderr",
     "output_type": "stream",
     "text": [
      "100%|███████████████████████████████████████████████████████████████| 4666/4666 [07:26<00:00, 10.45it/s]\n"
     ]
    },
    {
     "data": {
      "text/plain": [
       "{'hit_rate': 0.8949849978568367, 'mrr': 0.7890591513073296}"
      ]
     },
     "execution_count": 235,
     "metadata": {},
     "output_type": "execute_result"
    }
   ],
   "source": [
    "evaluate(ground_truth, question_text_vector_knn)"
   ]
  }
 ],
 "metadata": {
  "kernelspec": {
   "display_name": "Python 3 (ipykernel)",
   "language": "python",
   "name": "python3"
  },
  "language_info": {
   "codemirror_mode": {
    "name": "ipython",
    "version": 3
   },
   "file_extension": ".py",
   "mimetype": "text/x-python",
   "name": "python",
   "nbconvert_exporter": "python",
   "pygments_lexer": "ipython3",
   "version": "3.12.5"
  }
 },
 "nbformat": 4,
 "nbformat_minor": 5
}
