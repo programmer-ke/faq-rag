{
 "cells": [
  {
   "cell_type": "code",
   "execution_count": 13,
   "id": "94c7e4c7-30ab-4c8c-ad78-3f628c15a86f",
   "metadata": {},
   "outputs": [],
   "source": [
    "!pip install -q torch torchvision torchaudio --index-url https://download.pytorch.org/whl/cpu\n",
    "!pip install -q sentence-transformers\n",
    "!pip -q install tqdm"
   ]
  },
  {
   "cell_type": "code",
   "execution_count": 9,
   "id": "cc2f80e7-d94b-4abb-bd46-4ea6fc47ff5d",
   "metadata": {},
   "outputs": [
    {
     "data": {
      "text/plain": [
       "[{'text': \"The purpose of this document is to capture frequently asked technical questions\\nThe exact day and hour of the course will be 15th Jan 2024 at 17h00. The course will start with the first  “Office Hours'' live.1\\nSubscribe to course public Google Calendar (it works from Desktop only).\\nRegister before the course starts using this link.\\nJoin the course Telegram channel with announcements.\\nDon’t forget to register in DataTalks.Club's Slack and join the channel.\",\n",
       "  'section': 'General course-related questions',\n",
       "  'question': 'Course - When will the course start?',\n",
       "  'course': 'data-engineering-zoomcamp'},\n",
       " {'text': 'GitHub - DataTalksClub data-engineering-zoomcamp#prerequisites',\n",
       "  'section': 'General course-related questions',\n",
       "  'question': 'Course - What are the prerequisites for this course?',\n",
       "  'course': 'data-engineering-zoomcamp'}]"
      ]
     },
     "execution_count": 9,
     "metadata": {},
     "output_type": "execute_result"
    }
   ],
   "source": [
    "import json\n",
    "\n",
    "with open(\"documents.json\", \"r\") as f:\n",
    "    documents_raw = json.load(f)\n",
    "\n",
    "documents = []\n",
    "\n",
    "for course_data in documents_raw:\n",
    "    for document in course_data['documents']:\n",
    "        document[\"course\"] = course_data[\"course\"]\n",
    "        documents.append(document)\n",
    "\n",
    "documents[:2]"
   ]
  },
  {
   "cell_type": "code",
   "execution_count": 14,
   "id": "3da30a98-642d-4f64-89f8-ae802130162d",
   "metadata": {},
   "outputs": [],
   "source": [
    "from sentence_transformers import SentenceTransformer\n",
    "\n",
    "model = SentenceTransformer(\"all-mpnet-base-v2\")"
   ]
  },
  {
   "cell_type": "code",
   "execution_count": 18,
   "id": "476215f0-f3e4-4a19-9ddb-e9f5bc22ab51",
   "metadata": {},
   "outputs": [
    {
     "name": "stderr",
     "output_type": "stream",
     "text": [
      "100%|████████████████████████████████████████████████████████████████| 948/948 [06:21<00:00,  2.49it/s]\n"
     ]
    }
   ],
   "source": [
    "from tqdm import tqdm\n",
    "\n",
    "for doc in tqdm(documents):\n",
    "    doc['text_vector'] = model.encode(doc['text']).tolist()"
   ]
  },
  {
   "cell_type": "code",
   "execution_count": 19,
   "id": "2992ca89-4184-46a7-b15c-d8273d79875b",
   "metadata": {},
   "outputs": [
    {
     "data": {
      "text/plain": [
       "ObjectApiResponse({'name': '69c620c9be3e', 'cluster_name': 'docker-cluster', 'cluster_uuid': 'cwvJr1KeRAi49vbA8T7xYQ', 'version': {'number': '8.4.3', 'build_flavor': 'default', 'build_type': 'docker', 'build_hash': '42f05b9372a9a4a470db3b52817899b99a76ee73', 'build_date': '2022-10-04T07:17:24.662462378Z', 'build_snapshot': False, 'lucene_version': '9.3.0', 'minimum_wire_compatibility_version': '7.17.0', 'minimum_index_compatibility_version': '7.0.0'}, 'tagline': 'You Know, for Search'})"
      ]
     },
     "execution_count": 19,
     "metadata": {},
     "output_type": "execute_result"
    }
   ],
   "source": [
    "from elasticsearch import Elasticsearch\n",
    "\n",
    "es_client = Elasticsearch(\"http://localhost:9200\")\n",
    "es_client.info()"
   ]
  },
  {
   "cell_type": "code",
   "execution_count": 22,
   "id": "2f54b329-30da-4090-b29a-8ddbb4d77cd7",
   "metadata": {},
   "outputs": [
    {
     "data": {
      "text/plain": [
       "{'settings': {'number_of_shards': 1, 'number_of_replicas': 0},\n",
       " 'mappings': {'properties': {'text': {'type': 'text'},\n",
       "   'section': {'type': 'text'},\n",
       "   'question': {'type': 'text'},\n",
       "   'course': {'type': 'keyword'},\n",
       "   'text_vector': {'type': 'dense_vector',\n",
       "    'dims': 768,\n",
       "    'index': True,\n",
       "    'similarity': 'cosine'}}}}"
      ]
     },
     "execution_count": 22,
     "metadata": {},
     "output_type": "execute_result"
    }
   ],
   "source": [
    "index_settings = {\n",
    "    \"settings\": {\n",
    "        \"number_of_shards\": 1,\n",
    "        \"number_of_replicas\": 0\n",
    "    },\n",
    "    \"mappings\": {\n",
    "        \"properties\": {\n",
    "            \"text\": {\"type\": \"text\"},\n",
    "            \"section\": {\"type\": \"text\"},\n",
    "            \"question\": {\"type\": \"text\"},\n",
    "            \"course\": {\"type\": \"keyword\"},\n",
    "            \"text_vector\": {\n",
    "                \"type\": \"dense_vector\",\n",
    "                \"dims\": 768,\n",
    "                \"index\": True,\n",
    "                \"similarity\": \"cosine\",\n",
    "            }\n",
    "        }\n",
    "    }\n",
    "}\n",
    "index_settings"
   ]
  },
  {
   "cell_type": "code",
   "execution_count": 24,
   "id": "a5b0d245-1cd6-4ec7-aa30-2207fbc1ce9a",
   "metadata": {},
   "outputs": [
    {
     "data": {
      "text/plain": [
       "ObjectApiResponse({'acknowledged': True, 'shards_acknowledged': True, 'index': 'course_questions'})"
      ]
     },
     "execution_count": 24,
     "metadata": {},
     "output_type": "execute_result"
    }
   ],
   "source": [
    "index_name = \"course_questions\"\n",
    "\n",
    "es_client.indices.delete(index=index_name, ignore_unavailable=True)\n",
    "es_client.indices.create(index=index_name, body=index_settings)"
   ]
  },
  {
   "cell_type": "code",
   "execution_count": 25,
   "id": "a64830f5-657b-4549-8387-de38086105b6",
   "metadata": {},
   "outputs": [
    {
     "name": "stderr",
     "output_type": "stream",
     "text": [
      "100%|████████████████████████████████████████████████████████████████| 948/948 [00:17<00:00, 52.86it/s]\n"
     ]
    }
   ],
   "source": [
    "for doc in tqdm(documents):\n",
    "    es_client.index(index=index_name, document=doc)"
   ]
  },
  {
   "cell_type": "code",
   "execution_count": 27,
   "id": "3859a75f-5666-4366-b3e2-dabfbeef8af9",
   "metadata": {},
   "outputs": [],
   "source": [
    "search_term = \"windows, mac or linux?\"\n",
    "vector_search_term = model.encode(search_term)\n",
    "\n",
    "query = {\n",
    "    \"field\": \"text_vector\",\n",
    "    'query_vector': vector_search_term,\n",
    "    'k': 5,\n",
    "    'num_candidates': 10000,\n",
    "}\n"
   ]
  },
  {
   "cell_type": "code",
   "execution_count": 28,
   "id": "6fe7232d-fed6-4b55-b677-0e397cabcc69",
   "metadata": {},
   "outputs": [],
   "source": [
    "results = es_client.search(index=index_name, knn=query, source=['text', 'section', 'question', 'course'])"
   ]
  },
  {
   "cell_type": "code",
   "execution_count": 30,
   "id": "f41a63df-5bf2-4222-914d-d4fbb6d774a0",
   "metadata": {},
   "outputs": [
    {
     "data": {
      "text/plain": [
       "[{'_index': 'course_questions',\n",
       "  '_id': 'F-lhmJEBgRn6KY0YWT-f',\n",
       "  '_score': 0.78626704,\n",
       "  '_source': {'question': 'Environment - Is the course [Windows/mac/Linux/...] friendly?',\n",
       "   'course': 'data-engineering-zoomcamp',\n",
       "   'section': 'General course-related questions',\n",
       "   'text': 'Yes! Linux is ideal but technically it should not matter. Students last year used all 3 OSes successfully'}},\n",
       " {'_index': 'course_questions',\n",
       "  '_id': 'sulhmJEBgRn6KY0YeECL',\n",
       "  '_score': 0.6323599,\n",
       "  '_source': {'question': \"Any particular hardware requirements for the course or everything is mostly cloud? TIA! Couldn't really find this in the FAQ.\",\n",
       "   'course': 'machine-learning-zoomcamp',\n",
       "   'section': 'General course-related questions',\n",
       "   'text': 'For the Machine Learning part, all you need is a working laptop with an internet connection. The Deep Learning part is more resource intensive, but for that you can use a cloud (we use Saturn cloud but can be anything else).\\n(Rileen Sinha; based on response by Alexey on Slack)'}},\n",
       " {'_index': 'course_questions',\n",
       "  '_id': 'ROlhmJEBgRn6KY0Yg0Eo',\n",
       "  '_score': 0.62943184,\n",
       "  '_source': {'question': 'How to install WSL on Windows 10 and 11 ?',\n",
       "   'course': 'machine-learning-zoomcamp',\n",
       "   'section': '5. Deploying Machine Learning Models',\n",
       "   'text': 'It is quite simple, and you can follow these instructions here:\\nhttps://www.youtube.com/watch?v=qYlgUDKKK5A&ab_channel=NeuralNine\\nMake sure that you have “Virtual Machine Platform” feature activated in your Windows “Features”. To do that, search “features” in the research bar and see if the checkbox is selected. You also need to make sure that your system (in the bios) is able to virtualize. This is usually the case.\\nIn the Microsoft Store: look for ‘Ubuntu’ or ‘Debian’ (or any linux distribution you want) and install it\\nOnce it is downloaded, open the app and choose a username and a password (secured one). When you type your password, nothing will show in the window, which is normal: the writing is invisible.\\nYou are now inside of your linux system. You can test some commands such as “pwd”. You are not in your Windows system.\\nTo go to your windows system: you need to go back two times with cd ../.. And then go to the “mnt” directory with cd mnt. If you list here your files, you will see your disks. You can move to the desired folder, for example here I moved to the ML_Zoomcamp folder:\\nPython should be already installed but you can check it by running sudo apt install python3 command.\\nYou can make your actual folder your default folder when you open your Ubuntu terminal with this command : echo \"cd ../../mnt/your/folder/path\" >> ~/.bashrc\\nYou can disable bell sounds (when you type something that does not exist for example) by modifying the inputrc file with this command: sudo vim /etc/inputrc\\nYou have to uncomment the set bell-style none line -> to do that, press the “i” keyboard letter (for insert) and go with your keyboard to this line. Delete the # and then press the Escape keyboard touch and finally press “:wq” to write (it saves your modifications) then quit.\\nYou can check that your modifications are taken into account by opening a new terminal (you can pin it to your task bar so you do not have to go to the Microsoft app each time).\\nYou will need to install pip by running this command sudo apt install python3-pip\\nNB: I had this error message when trying to install pipenv (https://github.com/microsoft/WSL/issues/5663):\\n/sbin/ldconfig.real: Can\\'t link /usr/lib/wsl/lib/libnvoptix_loader.so.1 to libnvoptix.so.1\\n/sbin/ldconfig.real: /usr/lib/wsl/lib/libcuda.so.1 is not a symbolic link\\nSo I had to create the following symbolic link:\\nsudo ln -s /usr/lib/wsl/lib/libcuda.so.1 /usr/lib64/libcuda.so\\n(Mélanie Fouesnard)'}},\n",
       " {'_index': 'course_questions',\n",
       "  '_id': 'KulhmJEBgRn6KY0Yk0LM',\n",
       "  '_score': 0.6255134,\n",
       "  '_source': {'question': 'WSL instructions',\n",
       "   'course': 'mlops-zoomcamp',\n",
       "   'section': 'Module 1: Introduction',\n",
       "   'text': 'If you wish to use WSL on your windows machine, here are the setup instructions:\\nCommand: Sudo apt install wget\\nGet Anaconda download address here. wget <download address>\\nTurn on Docker Desktop WFree Download | AnacondaSL2\\nCommand: git clone <github repository address>\\nVSCODE on WSL\\nJupyter: pip3 install jupyter\\nAdded by Gregory Morris (gwm1980@gmail.com)\\nAll in all softwares at one shop:\\nYou can use anaconda which has all built in services like pycharm, jupyter\\nAdded by Khaja Zaffer (khajazaffer@aln.iseg.ulisboa.pt)\\nFor windows “wsl --install” in Powershell\\nAdded by Vadim Surin (vdmsurin@gmai.com)'}},\n",
       " {'_index': 'course_questions',\n",
       "  '_id': 'C-lhmJEBgRn6KY0YWD-9',\n",
       "  '_score': 0.6161474,\n",
       "  '_source': {'question': 'Environment - Do I need both GitHub Codespaces and GCP?',\n",
       "   'course': 'data-engineering-zoomcamp',\n",
       "   'section': 'General course-related questions',\n",
       "   'text': 'Choose the approach that aligns the most with your idea for the end project\\nOne of those should suffice. However, BigQuery, which is part of GCP, will be used, so learning that is probably a better option. Or you can set up a local environment for most of this course.'}}]"
      ]
     },
     "execution_count": 30,
     "metadata": {},
     "output_type": "execute_result"
    }
   ],
   "source": [
    "results['hits']['hits']"
   ]
  },
  {
   "cell_type": "code",
   "execution_count": 36,
   "id": "484f2fc3-ed1b-4092-9297-ee71f785b146",
   "metadata": {},
   "outputs": [],
   "source": [
    "results_adv = es_client.search(index=index_name, knn=query, size=5, explain=True, source=['text', 'section', 'question', 'course'], query={\n",
    "    \"match\": {\n",
    "        \"course\": \"data-engineering-zoomcamp\"\n",
    "    }\n",
    "})"
   ]
  },
  {
   "cell_type": "code",
   "execution_count": 37,
   "id": "837630a8-7743-4b65-a886-6d92817055cf",
   "metadata": {},
   "outputs": [
    {
     "data": {
      "text/plain": [
       "[{'_shard': '[course_questions][0]',\n",
       "  '_node': 'Y1F1WT5oQ2akKOZJJzOTEw',\n",
       "  '_index': 'course_questions',\n",
       "  '_id': 'F-lhmJEBgRn6KY0YWT-f',\n",
       "  '_score': 1.565181,\n",
       "  '_source': {'question': 'Environment - Is the course [Windows/mac/Linux/...] friendly?',\n",
       "   'course': 'data-engineering-zoomcamp',\n",
       "   'section': 'General course-related questions',\n",
       "   'text': 'Yes! Linux is ideal but technically it should not matter. Students last year used all 3 OSes successfully'},\n",
       "  '_explanation': {'value': 1.565181,\n",
       "   'description': 'sum of:',\n",
       "   'details': [{'value': 0.78626704,\n",
       "     'description': 'within top k documents',\n",
       "     'details': []},\n",
       "    {'value': 0.778914,\n",
       "     'description': 'weight(course:data-engineering-zoomcamp in 35) [PerFieldSimilarity], result of:',\n",
       "     'details': [{'value': 0.778914,\n",
       "       'description': 'score(freq=1.0), computed as boost * idf * tf from:',\n",
       "       'details': [{'value': 2.2, 'description': 'boost', 'details': []},\n",
       "        {'value': 0.778914,\n",
       "         'description': 'idf, computed as log(1 + (N - n + 0.5) / (n + 0.5)) from:',\n",
       "         'details': [{'value': 435,\n",
       "           'description': 'n, number of documents containing term',\n",
       "           'details': []},\n",
       "          {'value': 948,\n",
       "           'description': 'N, total number of documents with field',\n",
       "           'details': []}]},\n",
       "        {'value': 0.45454544,\n",
       "         'description': 'tf, computed as freq / (freq + k1 * (1 - b + b * dl / avgdl)) from:',\n",
       "         'details': [{'value': 1.0,\n",
       "           'description': 'freq, occurrences of term within document',\n",
       "           'details': []},\n",
       "          {'value': 1.2,\n",
       "           'description': 'k1, term saturation parameter',\n",
       "           'details': []},\n",
       "          {'value': 0.75,\n",
       "           'description': 'b, length normalization parameter',\n",
       "           'details': []},\n",
       "          {'value': 1.0, 'description': 'dl, length of field', 'details': []},\n",
       "          {'value': 1.0,\n",
       "           'description': 'avgdl, average length of field',\n",
       "           'details': []}]}]}]}]}},\n",
       " {'_shard': '[course_questions][0]',\n",
       "  '_node': 'Y1F1WT5oQ2akKOZJJzOTEw',\n",
       "  '_index': 'course_questions',\n",
       "  '_id': 'C-lhmJEBgRn6KY0YWD-9',\n",
       "  '_score': 1.3950614,\n",
       "  '_source': {'question': 'Environment - Do I need both GitHub Codespaces and GCP?',\n",
       "   'course': 'data-engineering-zoomcamp',\n",
       "   'section': 'General course-related questions',\n",
       "   'text': 'Choose the approach that aligns the most with your idea for the end project\\nOne of those should suffice. However, BigQuery, which is part of GCP, will be used, so learning that is probably a better option. Or you can set up a local environment for most of this course.'},\n",
       "  '_explanation': {'value': 1.3950614,\n",
       "   'description': 'sum of:',\n",
       "   'details': [{'value': 0.6161474,\n",
       "     'description': 'within top k documents',\n",
       "     'details': []},\n",
       "    {'value': 0.778914,\n",
       "     'description': 'weight(course:data-engineering-zoomcamp in 23) [PerFieldSimilarity], result of:',\n",
       "     'details': [{'value': 0.778914,\n",
       "       'description': 'score(freq=1.0), computed as boost * idf * tf from:',\n",
       "       'details': [{'value': 2.2, 'description': 'boost', 'details': []},\n",
       "        {'value': 0.778914,\n",
       "         'description': 'idf, computed as log(1 + (N - n + 0.5) / (n + 0.5)) from:',\n",
       "         'details': [{'value': 435,\n",
       "           'description': 'n, number of documents containing term',\n",
       "           'details': []},\n",
       "          {'value': 948,\n",
       "           'description': 'N, total number of documents with field',\n",
       "           'details': []}]},\n",
       "        {'value': 0.45454544,\n",
       "         'description': 'tf, computed as freq / (freq + k1 * (1 - b + b * dl / avgdl)) from:',\n",
       "         'details': [{'value': 1.0,\n",
       "           'description': 'freq, occurrences of term within document',\n",
       "           'details': []},\n",
       "          {'value': 1.2,\n",
       "           'description': 'k1, term saturation parameter',\n",
       "           'details': []},\n",
       "          {'value': 0.75,\n",
       "           'description': 'b, length normalization parameter',\n",
       "           'details': []},\n",
       "          {'value': 1.0, 'description': 'dl, length of field', 'details': []},\n",
       "          {'value': 1.0,\n",
       "           'description': 'avgdl, average length of field',\n",
       "           'details': []}]}]}]}]}},\n",
       " {'_shard': '[course_questions][0]',\n",
       "  '_node': 'Y1F1WT5oQ2akKOZJJzOTEw',\n",
       "  '_index': 'course_questions',\n",
       "  '_id': '9OlhmJEBgRn6KY0YVj5x',\n",
       "  '_score': 0.778914,\n",
       "  '_source': {'question': 'Course - When will the course start?',\n",
       "   'course': 'data-engineering-zoomcamp',\n",
       "   'section': 'General course-related questions',\n",
       "   'text': \"The purpose of this document is to capture frequently asked technical questions\\nThe exact day and hour of the course will be 15th Jan 2024 at 17h00. The course will start with the first  “Office Hours'' live.1\\nSubscribe to course public Google Calendar (it works from Desktop only).\\nRegister before the course starts using this link.\\nJoin the course Telegram channel with announcements.\\nDon’t forget to register in DataTalks.Club's Slack and join the channel.\"},\n",
       "  '_explanation': {'value': 0.778914,\n",
       "   'description': 'sum of:',\n",
       "   'details': [{'value': 0.778914,\n",
       "     'description': 'weight(course:data-engineering-zoomcamp in 0) [PerFieldSimilarity], result of:',\n",
       "     'details': [{'value': 0.778914,\n",
       "       'description': 'score(freq=1.0), computed as boost * idf * tf from:',\n",
       "       'details': [{'value': 2.2, 'description': 'boost', 'details': []},\n",
       "        {'value': 0.778914,\n",
       "         'description': 'idf, computed as log(1 + (N - n + 0.5) / (n + 0.5)) from:',\n",
       "         'details': [{'value': 435,\n",
       "           'description': 'n, number of documents containing term',\n",
       "           'details': []},\n",
       "          {'value': 948,\n",
       "           'description': 'N, total number of documents with field',\n",
       "           'details': []}]},\n",
       "        {'value': 0.45454544,\n",
       "         'description': 'tf, computed as freq / (freq + k1 * (1 - b + b * dl / avgdl)) from:',\n",
       "         'details': [{'value': 1.0,\n",
       "           'description': 'freq, occurrences of term within document',\n",
       "           'details': []},\n",
       "          {'value': 1.2,\n",
       "           'description': 'k1, term saturation parameter',\n",
       "           'details': []},\n",
       "          {'value': 0.75,\n",
       "           'description': 'b, length normalization parameter',\n",
       "           'details': []},\n",
       "          {'value': 1.0, 'description': 'dl, length of field', 'details': []},\n",
       "          {'value': 1.0,\n",
       "           'description': 'avgdl, average length of field',\n",
       "           'details': []}]}]}]}]}},\n",
       " {'_shard': '[course_questions][0]',\n",
       "  '_node': 'Y1F1WT5oQ2akKOZJJzOTEw',\n",
       "  '_index': 'course_questions',\n",
       "  '_id': '9elhmJEBgRn6KY0YVj65',\n",
       "  '_score': 0.778914,\n",
       "  '_source': {'question': 'Course - What are the prerequisites for this course?',\n",
       "   'course': 'data-engineering-zoomcamp',\n",
       "   'section': 'General course-related questions',\n",
       "   'text': 'GitHub - DataTalksClub data-engineering-zoomcamp#prerequisites'},\n",
       "  '_explanation': {'value': 0.778914,\n",
       "   'description': 'sum of:',\n",
       "   'details': [{'value': 0.778914,\n",
       "     'description': 'weight(course:data-engineering-zoomcamp in 1) [PerFieldSimilarity], result of:',\n",
       "     'details': [{'value': 0.778914,\n",
       "       'description': 'score(freq=1.0), computed as boost * idf * tf from:',\n",
       "       'details': [{'value': 2.2, 'description': 'boost', 'details': []},\n",
       "        {'value': 0.778914,\n",
       "         'description': 'idf, computed as log(1 + (N - n + 0.5) / (n + 0.5)) from:',\n",
       "         'details': [{'value': 435,\n",
       "           'description': 'n, number of documents containing term',\n",
       "           'details': []},\n",
       "          {'value': 948,\n",
       "           'description': 'N, total number of documents with field',\n",
       "           'details': []}]},\n",
       "        {'value': 0.45454544,\n",
       "         'description': 'tf, computed as freq / (freq + k1 * (1 - b + b * dl / avgdl)) from:',\n",
       "         'details': [{'value': 1.0,\n",
       "           'description': 'freq, occurrences of term within document',\n",
       "           'details': []},\n",
       "          {'value': 1.2,\n",
       "           'description': 'k1, term saturation parameter',\n",
       "           'details': []},\n",
       "          {'value': 0.75,\n",
       "           'description': 'b, length normalization parameter',\n",
       "           'details': []},\n",
       "          {'value': 1.0, 'description': 'dl, length of field', 'details': []},\n",
       "          {'value': 1.0,\n",
       "           'description': 'avgdl, average length of field',\n",
       "           'details': []}]}]}]}]}},\n",
       " {'_shard': '[course_questions][0]',\n",
       "  '_node': 'Y1F1WT5oQ2akKOZJJzOTEw',\n",
       "  '_index': 'course_questions',\n",
       "  '_id': '9ulhmJEBgRn6KY0YVj7Q',\n",
       "  '_score': 0.778914,\n",
       "  '_source': {'question': 'Course - Can I still join the course after the start date?',\n",
       "   'course': 'data-engineering-zoomcamp',\n",
       "   'section': 'General course-related questions',\n",
       "   'text': \"Yes, even if you don't register, you're still eligible to submit the homeworks.\\nBe aware, however, that there will be deadlines for turning in the final projects. So don't leave everything for the last minute.\"},\n",
       "  '_explanation': {'value': 0.778914,\n",
       "   'description': 'sum of:',\n",
       "   'details': [{'value': 0.778914,\n",
       "     'description': 'weight(course:data-engineering-zoomcamp in 2) [PerFieldSimilarity], result of:',\n",
       "     'details': [{'value': 0.778914,\n",
       "       'description': 'score(freq=1.0), computed as boost * idf * tf from:',\n",
       "       'details': [{'value': 2.2, 'description': 'boost', 'details': []},\n",
       "        {'value': 0.778914,\n",
       "         'description': 'idf, computed as log(1 + (N - n + 0.5) / (n + 0.5)) from:',\n",
       "         'details': [{'value': 435,\n",
       "           'description': 'n, number of documents containing term',\n",
       "           'details': []},\n",
       "          {'value': 948,\n",
       "           'description': 'N, total number of documents with field',\n",
       "           'details': []}]},\n",
       "        {'value': 0.45454544,\n",
       "         'description': 'tf, computed as freq / (freq + k1 * (1 - b + b * dl / avgdl)) from:',\n",
       "         'details': [{'value': 1.0,\n",
       "           'description': 'freq, occurrences of term within document',\n",
       "           'details': []},\n",
       "          {'value': 1.2,\n",
       "           'description': 'k1, term saturation parameter',\n",
       "           'details': []},\n",
       "          {'value': 0.75,\n",
       "           'description': 'b, length normalization parameter',\n",
       "           'details': []},\n",
       "          {'value': 1.0, 'description': 'dl, length of field', 'details': []},\n",
       "          {'value': 1.0,\n",
       "           'description': 'avgdl, average length of field',\n",
       "           'details': []}]}]}]}]}}]"
      ]
     },
     "execution_count": 37,
     "metadata": {},
     "output_type": "execute_result"
    }
   ],
   "source": [
    "results_adv['hits']['hits']"
   ]
  },
  {
   "cell_type": "code",
   "execution_count": null,
   "id": "deff6e79-0aec-43c4-8026-0f3230c9ab1c",
   "metadata": {},
   "outputs": [],
   "source": []
  }
 ],
 "metadata": {
  "kernelspec": {
   "display_name": "Python 3 (ipykernel)",
   "language": "python",
   "name": "python3"
  },
  "language_info": {
   "codemirror_mode": {
    "name": "ipython",
    "version": 3
   },
   "file_extension": ".py",
   "mimetype": "text/x-python",
   "name": "python",
   "nbconvert_exporter": "python",
   "pygments_lexer": "ipython3",
   "version": "3.12.5"
  }
 },
 "nbformat": 4,
 "nbformat_minor": 5
}
