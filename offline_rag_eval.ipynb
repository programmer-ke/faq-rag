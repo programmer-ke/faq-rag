{
 "cells": [
  {
   "cell_type": "code",
   "execution_count": 1,
   "id": "a7d7dbfb-78a1-434e-a531-1fa690f41648",
   "metadata": {},
   "outputs": [],
   "source": [
    "import json\n",
    "import pandas as pd"
   ]
  },
  {
   "cell_type": "code",
   "execution_count": 2,
   "id": "e826cd78-67e6-407e-b22c-a0e943c8e843",
   "metadata": {},
   "outputs": [
    {
     "data": {
      "text/plain": [
       "[{'text': \"The purpose of this document is to capture frequently asked technical questions\\nThe exact day and hour of the course will be 15th Jan 2024 at 17h00. The course will start with the first  “Office Hours'' live.1\\nSubscribe to course public Google Calendar (it works from Desktop only).\\nRegister before the course starts using this link.\\nJoin the course Telegram channel with announcements.\\nDon’t forget to register in DataTalks.Club's Slack and join the channel.\",\n",
       "  'section': 'General course-related questions',\n",
       "  'question': 'Course - When will the course start?',\n",
       "  'course': 'data-engineering-zoomcamp',\n",
       "  'id': 0},\n",
       " {'text': 'GitHub - DataTalksClub data-engineering-zoomcamp#prerequisites',\n",
       "  'section': 'General course-related questions',\n",
       "  'question': 'Course - What are the prerequisites for this course?',\n",
       "  'course': 'data-engineering-zoomcamp',\n",
       "  'id': 1}]"
      ]
     },
     "execution_count": 2,
     "metadata": {},
     "output_type": "execute_result"
    }
   ],
   "source": [
    "import json\n",
    "\n",
    "with open(\"documents.json\", \"r\") as f:\n",
    "    documents_raw = json.load(f)\n",
    "\n",
    "documents = []\n",
    "\n",
    "for course_data in documents_raw:\n",
    "    for document in course_data['documents']:\n",
    "        document[\"course\"] = course_data[\"course\"]\n",
    "        documents.append(document)\n",
    "\n",
    "for i, doc in enumerate(documents):\n",
    "    doc['id'] = i\n",
    "\n",
    "documents[:2]"
   ]
  },
  {
   "cell_type": "code",
   "execution_count": 3,
   "id": "c41b5fba-a357-4c94-9e2b-19a6ddddcffb",
   "metadata": {},
   "outputs": [
    {
     "data": {
      "text/html": [
       "<div>\n",
       "<style scoped>\n",
       "    .dataframe tbody tr th:only-of-type {\n",
       "        vertical-align: middle;\n",
       "    }\n",
       "\n",
       "    .dataframe tbody tr th {\n",
       "        vertical-align: top;\n",
       "    }\n",
       "\n",
       "    .dataframe thead th {\n",
       "        text-align: right;\n",
       "    }\n",
       "</style>\n",
       "<table border=\"1\" class=\"dataframe\">\n",
       "  <thead>\n",
       "    <tr style=\"text-align: right;\">\n",
       "      <th></th>\n",
       "      <th>question</th>\n",
       "      <th>course</th>\n",
       "      <th>document</th>\n",
       "    </tr>\n",
       "  </thead>\n",
       "  <tbody>\n",
       "    <tr>\n",
       "      <th>0</th>\n",
       "      <td>When does the course start?</td>\n",
       "      <td>data-engineering-zoomcamp</td>\n",
       "      <td>0</td>\n",
       "    </tr>\n",
       "    <tr>\n",
       "      <th>1</th>\n",
       "      <td>What is the exact time the course begins?</td>\n",
       "      <td>data-engineering-zoomcamp</td>\n",
       "      <td>0</td>\n",
       "    </tr>\n",
       "    <tr>\n",
       "      <th>2</th>\n",
       "      <td>How can I subscribe to the course calendar?</td>\n",
       "      <td>data-engineering-zoomcamp</td>\n",
       "      <td>0</td>\n",
       "    </tr>\n",
       "    <tr>\n",
       "      <th>3</th>\n",
       "      <td>How do I register for the course before it sta...</td>\n",
       "      <td>data-engineering-zoomcamp</td>\n",
       "      <td>0</td>\n",
       "    </tr>\n",
       "    <tr>\n",
       "      <th>4</th>\n",
       "      <td>What is the link to register for the course?</td>\n",
       "      <td>data-engineering-zoomcamp</td>\n",
       "      <td>0</td>\n",
       "    </tr>\n",
       "    <tr>\n",
       "      <th>...</th>\n",
       "      <td>...</td>\n",
       "      <td>...</td>\n",
       "      <td>...</td>\n",
       "    </tr>\n",
       "    <tr>\n",
       "      <th>4661</th>\n",
       "      <td>How do I remove AWS infrastructure set up usin...</td>\n",
       "      <td>mlops-zoomcamp</td>\n",
       "      <td>947</td>\n",
       "    </tr>\n",
       "    <tr>\n",
       "      <th>4662</th>\n",
       "      <td>What are the steps to destroy resources create...</td>\n",
       "      <td>mlops-zoomcamp</td>\n",
       "      <td>947</td>\n",
       "    </tr>\n",
       "    <tr>\n",
       "      <th>4663</th>\n",
       "      <td>How can I initialize Terraform for destroying ...</td>\n",
       "      <td>mlops-zoomcamp</td>\n",
       "      <td>947</td>\n",
       "    </tr>\n",
       "    <tr>\n",
       "      <th>4664</th>\n",
       "      <td>What command is used to destroy the infrastruc...</td>\n",
       "      <td>mlops-zoomcamp</td>\n",
       "      <td>947</td>\n",
       "    </tr>\n",
       "    <tr>\n",
       "      <th>4665</th>\n",
       "      <td>How do I specify the variables file for Terraf...</td>\n",
       "      <td>mlops-zoomcamp</td>\n",
       "      <td>947</td>\n",
       "    </tr>\n",
       "  </tbody>\n",
       "</table>\n",
       "<p>4666 rows × 3 columns</p>\n",
       "</div>"
      ],
      "text/plain": [
       "                                               question  \\\n",
       "0                           When does the course start?   \n",
       "1             What is the exact time the course begins?   \n",
       "2           How can I subscribe to the course calendar?   \n",
       "3     How do I register for the course before it sta...   \n",
       "4          What is the link to register for the course?   \n",
       "...                                                 ...   \n",
       "4661  How do I remove AWS infrastructure set up usin...   \n",
       "4662  What are the steps to destroy resources create...   \n",
       "4663  How can I initialize Terraform for destroying ...   \n",
       "4664  What command is used to destroy the infrastruc...   \n",
       "4665  How do I specify the variables file for Terraf...   \n",
       "\n",
       "                         course  document  \n",
       "0     data-engineering-zoomcamp         0  \n",
       "1     data-engineering-zoomcamp         0  \n",
       "2     data-engineering-zoomcamp         0  \n",
       "3     data-engineering-zoomcamp         0  \n",
       "4     data-engineering-zoomcamp         0  \n",
       "...                         ...       ...  \n",
       "4661             mlops-zoomcamp       947  \n",
       "4662             mlops-zoomcamp       947  \n",
       "4663             mlops-zoomcamp       947  \n",
       "4664             mlops-zoomcamp       947  \n",
       "4665             mlops-zoomcamp       947  \n",
       "\n",
       "[4666 rows x 3 columns]"
      ]
     },
     "execution_count": 3,
     "metadata": {},
     "output_type": "execute_result"
    }
   ],
   "source": [
    "df_ground_truth = pd.read_csv('ground_truth_data.csv')\n",
    "df_ground_truth"
   ]
  },
  {
   "cell_type": "code",
   "execution_count": 4,
   "id": "814b5a7b-3871-41e5-9a6a-26ba62abcb65",
   "metadata": {},
   "outputs": [
    {
     "data": {
      "text/plain": [
       "[{'question': 'How do I sign up for the course?',\n",
       "  'course': 'machine-learning-zoomcamp',\n",
       "  'document': 435},\n",
       " {'question': 'What is the purpose of this document?',\n",
       "  'course': 'machine-learning-zoomcamp',\n",
       "  'document': 435},\n",
       " {'question': 'How is this document structured?',\n",
       "  'course': 'machine-learning-zoomcamp',\n",
       "  'document': 435}]"
      ]
     },
     "execution_count": 4,
     "metadata": {},
     "output_type": "execute_result"
    }
   ],
   "source": [
    "ground_truth = df_ground_truth[df_ground_truth.course == 'machine-learning-zoomcamp'].to_dict(orient='records')\n",
    "ground_truth[:3]"
   ]
  },
  {
   "cell_type": "code",
   "execution_count": 5,
   "id": "2b7afc7f-9f38-40a7-881e-a048bda43719",
   "metadata": {},
   "outputs": [
    {
     "name": "stderr",
     "output_type": "stream",
     "text": [
      "/home/krm/projects/faq-rag/.venv/lib/python3.12/site-packages/sentence_transformers/cross_encoder/CrossEncoder.py:11: TqdmWarning: IProgress not found. Please update jupyter and ipywidgets. See https://ipywidgets.readthedocs.io/en/stable/user_install.html\n",
      "  from tqdm.autonotebook import tqdm, trange\n",
      "/home/krm/projects/faq-rag/.venv/lib/python3.12/site-packages/transformers/tokenization_utils_base.py:1601: FutureWarning: `clean_up_tokenization_spaces` was not set. It will be set to `True` by default. This behavior will be depracted in transformers v4.45, and will be then set to `False` by default. For more details check this issue: https://github.com/huggingface/transformers/issues/31884\n",
      "  warnings.warn(\n"
     ]
    }
   ],
   "source": [
    "from sentence_transformers import SentenceTransformer\n",
    "from tqdm import tqdm\n",
    "\n",
    "model_name = 'multi-qa-MiniLM-L6-cos-v1'\n",
    "model = SentenceTransformer(model_name)"
   ]
  },
  {
   "cell_type": "markdown",
   "id": "202d910a-e85b-4a53-bda2-047d0c9d996c",
   "metadata": {},
   "source": [
    "Create Index:"
   ]
  },
  {
   "cell_type": "code",
   "execution_count": 6,
   "id": "92692661-1ccb-4d13-a1c0-58937297bac6",
   "metadata": {},
   "outputs": [
    {
     "data": {
      "text/plain": [
       "ObjectApiResponse({'acknowledged': True, 'shards_acknowledged': True, 'index': 'course-questions'})"
      ]
     },
     "execution_count": 6,
     "metadata": {},
     "output_type": "execute_result"
    }
   ],
   "source": [
    "from elasticsearch import Elasticsearch\n",
    "\n",
    "es_client = Elasticsearch('http://localhost:9200') \n",
    "\n",
    "index_settings = {\n",
    "    \"settings\": {\n",
    "        \"number_of_shards\": 1,\n",
    "        \"number_of_replicas\": 0\n",
    "    },\n",
    "    \"mappings\": {\n",
    "        \"properties\": {\n",
    "            \"text\": {\"type\": \"text\"},\n",
    "            \"section\": {\"type\": \"text\"},\n",
    "            \"question\": {\"type\": \"text\"},\n",
    "            \"course\": {\"type\": \"keyword\"},\n",
    "            \"id\": {\"type\": \"keyword\"},\n",
    "            \"question_text_vector\": {\n",
    "                \"type\": \"dense_vector\",\n",
    "                \"dims\": 384,\n",
    "                \"index\": True,\n",
    "                \"similarity\": \"cosine\"\n",
    "            },\n",
    "        }\n",
    "    }\n",
    "}\n",
    "\n",
    "index_name = \"course-questions\"\n",
    "\n",
    "es_client.indices.delete(index=index_name, ignore_unavailable=True)\n",
    "es_client.indices.create(index=index_name, body=index_settings)"
   ]
  },
  {
   "cell_type": "markdown",
   "id": "069d7ceb-0cb9-430c-ac1f-bb293eb047af",
   "metadata": {},
   "source": [
    "Index vectorized document:"
   ]
  },
  {
   "cell_type": "code",
   "execution_count": 7,
   "id": "b9356446-1e9f-4a3f-b59b-a92721ed0d04",
   "metadata": {},
   "outputs": [
    {
     "name": "stderr",
     "output_type": "stream",
     "text": [
      "100%|██████████████████████████████████████| 948/948 [02:58<00:00,  5.30it/s]\n"
     ]
    }
   ],
   "source": [
    "from tqdm.auto import tqdm\n",
    "\n",
    "for doc in tqdm(documents):\n",
    "    question = doc['question']\n",
    "    text = doc['text']\n",
    "    doc['question_text_vector'] = model.encode(question + ' ' + text)\n",
    "\n",
    "    es_client.index(index=index_name, document=doc)"
   ]
  },
  {
   "cell_type": "markdown",
   "id": "a90ef139-d35c-4557-b5bf-c8185346fbfa",
   "metadata": {},
   "source": [
    "Retrieval:"
   ]
  },
  {
   "cell_type": "code",
   "execution_count": 8,
   "id": "7f798e05-610d-429d-a4ae-c2b907c171f1",
   "metadata": {},
   "outputs": [],
   "source": [
    "def elastic_search_knn(field, vector, course):\n",
    "    knn = {\n",
    "        \"field\": field,\n",
    "        \"query_vector\": vector,\n",
    "        \"k\": 5,\n",
    "        \"num_candidates\": 10000,\n",
    "        \"filter\": {\n",
    "            \"term\": {\n",
    "                \"course\": course\n",
    "            }\n",
    "        }\n",
    "    }\n",
    "\n",
    "    search_query = {\n",
    "        \"knn\": knn,\n",
    "        \"_source\": [\"text\", \"section\", \"question\", \"course\", \"id\"]\n",
    "    }\n",
    "\n",
    "    es_results = es_client.search(\n",
    "        index=index_name,\n",
    "        body=search_query\n",
    "    )\n",
    "    \n",
    "    result_docs = []\n",
    "    \n",
    "    for hit in es_results['hits']['hits']:\n",
    "        result_docs.append(hit['_source'])\n",
    "\n",
    "    return result_docs\n",
    "\n",
    "def question_text_vector_knn(q):\n",
    "    question = q['question']\n",
    "    course = q['course']\n",
    "\n",
    "    v_q = model.encode(question)\n",
    "\n",
    "    return elastic_search_knn('question_text_vector', v_q, course)"
   ]
  },
  {
   "cell_type": "code",
   "execution_count": 33,
   "id": "ebfb3c4b-70ca-4f5d-95da-6a6b8e183c2b",
   "metadata": {},
   "outputs": [
    {
     "data": {
      "text/plain": [
       "[{'question': 'What if I miss a session?',\n",
       "  'course': 'machine-learning-zoomcamp',\n",
       "  'section': 'General course-related questions',\n",
       "  'text': 'Everything is recorded, so you won’t miss anything. You will be able to ask your questions for office hours in advance and we will cover them during the live stream. Also, you can always ask questions in Slack.',\n",
       "  'id': 437},\n",
       " {'question': 'Is it going to be live? When?',\n",
       "  'course': 'machine-learning-zoomcamp',\n",
       "  'section': 'General course-related questions',\n",
       "  'text': 'The course videos are pre-recorded, you can start watching the course right now.\\nWe will also occasionally have office hours - live sessions where we will answer your questions. The office hours sessions are recorded too.\\nYou can see the office hours as well as the pre-recorded course videos in the course playlist on YouTube.',\n",
       "  'id': 436},\n",
       " {'question': 'The same accuracy on epochs',\n",
       "  'course': 'machine-learning-zoomcamp',\n",
       "  'section': '8. Neural Networks and Deep Learning',\n",
       "  'text': \"Problem description\\nThe accuracy and the loss are both still the same or nearly the same while training.\\nSolution description\\nIn the homework, you should set class_mode='binary' while reading the data.\\nAlso, problem occurs when you choose the wrong optimizer, batch size, or learning rate\\nAdded by Ekaterina Kutovaia\",\n",
       "  'id': 677},\n",
       " {'question': 'Useful Resource for Missing Data Treatment\\nhttps://www.kaggle.com/code/parulpandey/a-guide-to-handling-missing-values-in-python/notebook',\n",
       "  'course': 'machine-learning-zoomcamp',\n",
       "  'section': '2. Machine Learning for Regression',\n",
       "  'text': '(Hrithik Kumar Advani)',\n",
       "  'id': 519},\n",
       " {'question': 'Will I get a certificate if I missed the midterm project?',\n",
       "  'course': 'machine-learning-zoomcamp',\n",
       "  'section': 'General course-related questions',\n",
       "  'text': \"Yes, it's possible. See the previous answer.\",\n",
       "  'id': 444}]"
      ]
     },
     "execution_count": 33,
     "metadata": {},
     "output_type": "execute_result"
    }
   ],
   "source": [
    "question_text_vector_knn(dict(\n",
    "    question='Are sessions recorded if I miss one?',\n",
    "    course='machine-learning-zoomcamp'\n",
    "))"
   ]
  },
  {
   "cell_type": "markdown",
   "id": "1f41ffd9-1067-426c-a437-05a52303c0b9",
   "metadata": {},
   "source": [
    "RAG flow:"
   ]
  },
  {
   "cell_type": "code",
   "execution_count": 34,
   "id": "370dedd4-4864-40a0-af9f-aaae7f43915d",
   "metadata": {},
   "outputs": [],
   "source": [
    "def build_prompt(query, search_results):\n",
    "    prompt_template = \"\"\"\n",
    "You're a course teaching assistant. Answer the `QUESTION` based on the `CONTEXT` from the FAQ database.\n",
    "Use only the facts from the CONTEXT when answering the QUESTION.\n",
    "\n",
    "# QUESTION\n",
    "{question}\n",
    "\n",
    "# CONTEXT \n",
    "{context}\n",
    "\"\"\".strip()\n",
    "\n",
    "    context = \"\"\n",
    "    \n",
    "    for doc in search_results:\n",
    "        context = context + f\"section: {doc['section']}\\nquestion: {doc['question']}\\nanswer: {doc['text']}\\n\\n\"\n",
    "    \n",
    "    prompt = prompt_template.format(question=query, context=context).strip()\n",
    "    return prompt"
   ]
  },
  {
   "cell_type": "code",
   "execution_count": 35,
   "id": "88438ee2-65c5-4217-a009-8d53f44ceafa",
   "metadata": {},
   "outputs": [],
   "source": [
    "\n",
    "\n",
    "def llm(prompt, model='gpt-4o'):\n",
    "    response = client.chat.completions.create(\n",
    "        model=model,\n",
    "        messages=[{\"role\": \"user\", \"content\": prompt}]\n",
    "    )\n",
    "    \n",
    "    return response.choices[0].message.content"
   ]
  },
  {
   "cell_type": "code",
   "execution_count": 36,
   "id": "90320b84-43e8-4cc0-9a96-c6c9b7cdc8ee",
   "metadata": {},
   "outputs": [],
   "source": [
    "def rag(query: dict, model='gpt-4o') -> str:\n",
    "    search_results = question_text_vector_knn(query)\n",
    "    prompt = build_prompt(query['question'], search_results)\n",
    "    answer = llm(prompt, model=model)\n",
    "    return answer"
   ]
  },
  {
   "cell_type": "code",
   "execution_count": 37,
   "id": "77a7d5ac-881a-42c4-9038-df0a51e364ce",
   "metadata": {},
   "outputs": [],
   "source": [
    "from openai import OpenAI\n",
    "\n",
    "client = OpenAI(\n",
    "    base_url=\"http://localhost:11434/v1/\",\n",
    "    api_key=\"ollama\"\n",
    ")"
   ]
  },
  {
   "cell_type": "code",
   "execution_count": 51,
   "id": "36486e45-34db-4ceb-9abe-a512e9ac32f9",
   "metadata": {},
   "outputs": [
    {
     "data": {
      "text/plain": [
       "{'question': 'What happens if I miss a class?',\n",
       " 'course': 'machine-learning-zoomcamp',\n",
       " 'document': 437}"
      ]
     },
     "execution_count": 51,
     "metadata": {},
     "output_type": "execute_result"
    }
   ],
   "source": [
    "ground_truth[10]"
   ]
  },
  {
   "cell_type": "code",
   "execution_count": 56,
   "id": "1457684e-d412-4373-a455-496841caa877",
   "metadata": {},
   "outputs": [],
   "source": [
    "llm_answer = rag(ground_truth[10], model='qwen2:0.5b')"
   ]
  },
  {
   "cell_type": "code",
   "execution_count": 57,
   "id": "f8ae85a3-3ce8-4af4-844d-6dba010c022c",
   "metadata": {},
   "outputs": [],
   "source": [
    "original_answer = documents[437]['text']"
   ]
  },
  {
   "cell_type": "code",
   "execution_count": 58,
   "id": "ff043c49-e9ae-436b-bb4c-9a52b2632172",
   "metadata": {},
   "outputs": [
    {
     "data": {
      "text/plain": [
       "('Everything is recorded, so you won’t miss anything. You will be able to ask your questions for office hours in advance and we will cover them during the live stream. Also, you can always ask questions in Slack.',\n",
       " 'If I miss a session, everything will be recorded and you will have the option to watch the video during office hours if that happens (from the context).')"
      ]
     },
     "execution_count": 58,
     "metadata": {},
     "output_type": "execute_result"
    }
   ],
   "source": [
    "original_answer, llm_answer"
   ]
  },
  {
   "cell_type": "markdown",
   "id": "a8ce703d-51ad-4fe6-860e-0a1c93dc315e",
   "metadata": {},
   "source": [
    "Cosine Similarity Metric:"
   ]
  },
  {
   "cell_type": "code",
   "execution_count": 59,
   "id": "938ac94f-df18-4227-8d99-17e3dcf4c78e",
   "metadata": {},
   "outputs": [
    {
     "data": {
      "text/plain": [
       "np.float32(0.66375685)"
      ]
     },
     "execution_count": 59,
     "metadata": {},
     "output_type": "execute_result"
    }
   ],
   "source": [
    "v_orig = model.encode(original_answer)\n",
    "v_llm = model.encode(llm_answer)\n",
    "\n",
    "v_llm.dot(v_orig)"
   ]
  },
  {
   "cell_type": "code",
   "execution_count": 62,
   "id": "c19aa5d3-0079-47eb-a330-1a6851c40360",
   "metadata": {},
   "outputs": [],
   "source": [
    "import os\n"
   ]
  },
  {
   "cell_type": "code",
   "execution_count": 61,
   "id": "b0cd5b36-7394-48bb-87e7-5aa46779dfa6",
   "metadata": {},
   "outputs": [],
   "source": [
    "client = OpenAI(\n",
    "    base_url=\"https://api.mistral.ai/v1\",\n",
    "    api_key=os.environ.get('MISTRALAI_KEY')\n",
    ")"
   ]
  },
  {
   "cell_type": "code",
   "execution_count": 65,
   "id": "315a7b60-7d06-44a7-8aae-6283bddb5b2f",
   "metadata": {},
   "outputs": [
    {
     "data": {
      "text/plain": [
       "\"Hello! How can I assist you today? Let's chat about anything you'd like. 😊\""
      ]
     },
     "execution_count": 65,
     "metadata": {},
     "output_type": "execute_result"
    }
   ],
   "source": [
    "llm(\"hello, world.\", model='open-mistral-nemo-2407')"
   ]
  },
  {
   "cell_type": "code",
   "execution_count": 66,
   "id": "b38d08d0-f9c9-448a-9d21-e33b9f26ae12",
   "metadata": {},
   "outputs": [],
   "source": [
    "answers = {}"
   ]
  },
  {
   "cell_type": "code",
   "execution_count": 69,
   "id": "3d0adf1c-5d96-4430-a5bb-e3bc2bc18d8d",
   "metadata": {},
   "outputs": [],
   "source": [
    "import time\n",
    "import openai\n",
    "from tqdm import tqdm"
   ]
  },
  {
   "cell_type": "code",
   "execution_count": 72,
   "id": "fd5096de-a07e-4af9-b887-4509ae3a27cc",
   "metadata": {},
   "outputs": [
    {
     "name": "stderr",
     "output_type": "stream",
     "text": [
      " 26%|█████████▏                         | 488/1857 [29:46<1:23:32,  3.66s/it]\n",
      " 27%|██████████▏                          | 509/1857 [01:18<03:29,  6.44it/s]\n",
      " 44%|████████████████▎                    | 820/1857 [20:33<25:59,  1.50s/it]\n",
      " 45%|████████████████▊                    | 841/1857 [01:02<01:15, 13.51it/s]\n",
      " 46%|█████████████████                    | 854/1857 [00:46<00:54, 18.51it/s]\n",
      " 49%|██████████████████                   | 906/1857 [03:18<03:27,  4.58it/s]\n",
      " 49%|██████████████████▎                  | 918/1857 [00:36<00:37, 25.31it/s]\n",
      " 52%|███████████████████                  | 959/1857 [02:33<02:23,  6.26it/s]\n",
      " 53%|███████████████████▌                 | 980/1857 [01:07<01:00, 14.55it/s]\n",
      " 54%|███████████████████▊                 | 995/1857 [00:54<00:47, 18.24it/s]\n",
      " 74%|██████████████████████████▌         | 1369/1857 [25:03<08:55,  1.10s/it]\n",
      " 75%|██████████████████████████▊         | 1385/1857 [00:56<00:19, 24.46it/s]\n",
      " 76%|███████████████████████████▍        | 1415/1857 [01:51<00:34, 12.71it/s]\n"
     ]
    },
    {
     "ename": "KeyboardInterrupt",
     "evalue": "",
     "output_type": "error",
     "traceback": [
      "\u001b[0;31m---------------------------------------------------------------------------\u001b[0m",
      "\u001b[0;31mKeyboardInterrupt\u001b[0m                         Traceback (most recent call last)",
      "Cell \u001b[0;32mIn[72], line 20\u001b[0m\n\u001b[1;32m     18\u001b[0m \u001b[38;5;28;01mwhile\u001b[39;00m \u001b[38;5;28mlen\u001b[39m(answers) \u001b[38;5;241m<\u001b[39m \u001b[38;5;28mlen\u001b[39m(ground_truth):\n\u001b[1;32m     19\u001b[0m     \u001b[38;5;28;01mtry\u001b[39;00m:\n\u001b[0;32m---> 20\u001b[0m         \u001b[43mget_rag_answers\u001b[49m\u001b[43m(\u001b[49m\u001b[43m)\u001b[49m\n\u001b[1;32m     21\u001b[0m     \u001b[38;5;28;01mexcept\u001b[39;00m openai\u001b[38;5;241m.\u001b[39mRateLimitError:\n\u001b[1;32m     22\u001b[0m         time\u001b[38;5;241m.\u001b[39msleep(\u001b[38;5;241m30\u001b[39m)\n",
      "Cell \u001b[0;32mIn[72], line 16\u001b[0m, in \u001b[0;36mget_rag_answers\u001b[0;34m()\u001b[0m\n\u001b[1;32m      7\u001b[0m original_answer \u001b[38;5;241m=\u001b[39m documents[doc_id][\u001b[38;5;124m'\u001b[39m\u001b[38;5;124mtext\u001b[39m\u001b[38;5;124m'\u001b[39m]\n\u001b[1;32m      9\u001b[0m answers[i] \u001b[38;5;241m=\u001b[39m {\n\u001b[1;32m     10\u001b[0m     \u001b[38;5;124m'\u001b[39m\u001b[38;5;124mquestion\u001b[39m\u001b[38;5;124m'\u001b[39m: rec[\u001b[38;5;124m'\u001b[39m\u001b[38;5;124mquestion\u001b[39m\u001b[38;5;124m'\u001b[39m],\n\u001b[1;32m     11\u001b[0m     \u001b[38;5;124m'\u001b[39m\u001b[38;5;124manswer_llm\u001b[39m\u001b[38;5;124m'\u001b[39m: llm_answer,\n\u001b[0;32m   (...)\u001b[0m\n\u001b[1;32m     14\u001b[0m     \u001b[38;5;124m'\u001b[39m\u001b[38;5;124mcourse\u001b[39m\u001b[38;5;124m'\u001b[39m: rec[\u001b[38;5;124m'\u001b[39m\u001b[38;5;124mcourse\u001b[39m\u001b[38;5;124m'\u001b[39m]\n\u001b[1;32m     15\u001b[0m }\n\u001b[0;32m---> 16\u001b[0m \u001b[43mtime\u001b[49m\u001b[38;5;241;43m.\u001b[39;49m\u001b[43msleep\u001b[49m\u001b[43m(\u001b[49m\u001b[38;5;241;43m1.5\u001b[39;49m\u001b[43m)\u001b[49m\n",
      "\u001b[0;31mKeyboardInterrupt\u001b[0m: "
     ]
    }
   ],
   "source": [
    "def get_rag_answers():\n",
    "    for i, rec in enumerate(tqdm(ground_truth)):\n",
    "        if i in answers:\n",
    "            continue\n",
    "        llm_answer = rag(rec, 'open-mistral-nemo-2407')\n",
    "        doc_id = rec['document']\n",
    "        original_answer = documents[doc_id]['text']\n",
    "    \n",
    "        answers[i] = {\n",
    "            'question': rec['question'],\n",
    "            'answer_llm': llm_answer,\n",
    "            'answer_orig': original_answer,\n",
    "            'document': doc_id,\n",
    "            'course': rec['course']\n",
    "        }\n",
    "        time.sleep(1.5)\n",
    "\n",
    "while len(answers) < len(ground_truth):\n",
    "    try:\n",
    "        get_rag_answers()\n",
    "    except openai.RateLimitError:\n",
    "        time.sleep(30)"
   ]
  },
  {
   "cell_type": "code",
   "execution_count": 81,
   "id": "9afd9c29-d55d-4699-8a94-a146774c31b0",
   "metadata": {},
   "outputs": [
    {
     "data": {
      "text/plain": [
       "[(5,\n",
       "  {'question': 'Is the course live?',\n",
       "   'answer_llm': 'No, the course is not live. The course videos are pre-recorded and you can start watching them right now.',\n",
       "   'answer_orig': 'The course videos are pre-recorded, you can start watching the course right now.\\nWe will also occasionally have office hours - live sessions where we will answer your questions. The office hours sessions are recorded too.\\nYou can see the office hours as well as the pre-recorded course videos in the course playlist on YouTube.',\n",
       "   'document': 436,\n",
       "   'course': 'machine-learning-zoomcamp'}),\n",
       " (6,\n",
       "  {'question': 'When can I start watching the course?',\n",
       "   'answer_llm': 'You can start watching the course right now.',\n",
       "   'answer_orig': 'The course videos are pre-recorded, you can start watching the course right now.\\nWe will also occasionally have office hours - live sessions where we will answer your questions. The office hours sessions are recorded too.\\nYou can see the office hours as well as the pre-recorded course videos in the course playlist on YouTube.',\n",
       "   'document': 436,\n",
       "   'course': 'machine-learning-zoomcamp'}),\n",
       " (7,\n",
       "  {'question': 'Will there be live sessions?',\n",
       "   'answer_llm': 'No, there will not be live sessions. The course videos are pre-recorded and can be watched at any time.',\n",
       "   'answer_orig': 'The course videos are pre-recorded, you can start watching the course right now.\\nWe will also occasionally have office hours - live sessions where we will answer your questions. The office hours sessions are recorded too.\\nYou can see the office hours as well as the pre-recorded course videos in the course playlist on YouTube.',\n",
       "   'document': 436,\n",
       "   'course': 'machine-learning-zoomcamp'}),\n",
       " (8,\n",
       "  {'question': 'When are the office hours?',\n",
       "   'answer_llm': 'Office hours are held during live sessions where your questions will be answered. These sessions are also recorded and can be found in the course playlist on YouTube.',\n",
       "   'answer_orig': 'The course videos are pre-recorded, you can start watching the course right now.\\nWe will also occasionally have office hours - live sessions where we will answer your questions. The office hours sessions are recorded too.\\nYou can see the office hours as well as the pre-recorded course videos in the course playlist on YouTube.',\n",
       "   'document': 436,\n",
       "   'course': 'machine-learning-zoomcamp'}),\n",
       " (9,\n",
       "  {'question': 'Where can I find the course videos?',\n",
       "   'answer_llm': 'The course videos are available on YouTube in the course playlist. You can access them by going to the course page at <http://mlzoomcamp.com/>, scrolling down, and clicking on the links to start watching. Alternatively, you can use this direct link to the playlist: <http://mlzoomcamp.com/#syllabus>.',\n",
       "   'answer_orig': 'The course videos are pre-recorded, you can start watching the course right now.\\nWe will also occasionally have office hours - live sessions where we will answer your questions. The office hours sessions are recorded too.\\nYou can see the office hours as well as the pre-recorded course videos in the course playlist on YouTube.',\n",
       "   'document': 436,\n",
       "   'course': 'machine-learning-zoomcamp'})]"
      ]
     },
     "execution_count": 81,
     "metadata": {},
     "output_type": "execute_result"
    }
   ],
   "source": [
    "list(answers.items())[5:10]"
   ]
  },
  {
   "cell_type": "code",
   "execution_count": 82,
   "id": "79728b11-6d0d-4e5e-af73-06251d65afbb",
   "metadata": {},
   "outputs": [],
   "source": [
    "with open('rag_answers.json', 'wt') as f:\n",
    "    json.dump(answers, f)"
   ]
  },
  {
   "cell_type": "code",
   "execution_count": 85,
   "id": "6b1a408b-140d-4cf3-8286-97800881217d",
   "metadata": {},
   "outputs": [
    {
     "data": {
      "text/plain": [
       "[{'question': 'How do I sign up for the course?',\n",
       "  'answer_llm': 'To sign up for the course, visit the following link: https://airtable.com/shryxwLd0COOEaqXo',\n",
       "  'answer_orig': 'Machine Learning Zoomcamp FAQ\\nThe purpose of this document is to capture frequently asked technical questions.\\nWe did this for our data engineering course and it worked quite well. Check this document for inspiration on how to structure your questions and answers:\\nData Engineering Zoomcamp FAQ\\nIn the course GitHub repository there’s a link. Here it is: https://airtable.com/shryxwLd0COOEaqXo\\nwork',\n",
       "  'document': 435,\n",
       "  'course': 'machine-learning-zoomcamp'},\n",
       " {'question': 'What is the purpose of this document?',\n",
       "  'answer_llm': 'The purpose of this document is to capture frequently asked technical questions related to the course.',\n",
       "  'answer_orig': 'Machine Learning Zoomcamp FAQ\\nThe purpose of this document is to capture frequently asked technical questions.\\nWe did this for our data engineering course and it worked quite well. Check this document for inspiration on how to structure your questions and answers:\\nData Engineering Zoomcamp FAQ\\nIn the course GitHub repository there’s a link. Here it is: https://airtable.com/shryxwLd0COOEaqXo\\nwork',\n",
       "  'document': 435,\n",
       "  'course': 'machine-learning-zoomcamp'},\n",
       " {'question': 'How is this document structured?',\n",
       "  'answer_llm': 'This document is structured as a FAQ (Frequently Asked Questions) database, organized into sections based on topics related to the course. Each section contains one or more questions and their respective answers. The sections are:\\n\\n1. **Introduction to Machine Learning**\\n   - Contains one question about the pandas.DataFrame.info() function.\\n\\n2. **General course-related questions**\\n   - Contains one question about how to sign up for the course.\\n\\n3. **Projects (Midterm and Capstone)**\\n   - Contains one question about the learning in public links for the projects.\\n\\n4. **8. Neural Networks and Deep Learning**\\n   - Contains one question about the number of parameters and features in a neural network.\\n\\n5. **9. Serverless Deep Learning**\\n   - Contains one question about how Lambda container images work.\\n\\nEach answer provides a solution or explanation related to the question, and some include additional resources or clarifications. The document aims to capture frequently asked technical questions to help course participants find answers quickly.',\n",
       "  'answer_orig': 'Machine Learning Zoomcamp FAQ\\nThe purpose of this document is to capture frequently asked technical questions.\\nWe did this for our data engineering course and it worked quite well. Check this document for inspiration on how to structure your questions and answers:\\nData Engineering Zoomcamp FAQ\\nIn the course GitHub repository there’s a link. Here it is: https://airtable.com/shryxwLd0COOEaqXo\\nwork',\n",
       "  'document': 435,\n",
       "  'course': 'machine-learning-zoomcamp'}]"
      ]
     },
     "execution_count": 85,
     "metadata": {},
     "output_type": "execute_result"
    }
   ],
   "source": [
    "rag_results_open_mistral_nemo = [None] * len(answers)\n",
    "for index in answers:\n",
    "    rag_results_open_mistral_nemo[index] = answers[index]\n",
    "\n",
    "rag_results_open_mistral_nemo[:3]"
   ]
  },
  {
   "cell_type": "code",
   "execution_count": 87,
   "id": "4e8657ad-7a22-4d99-a92d-a4909c8efa4d",
   "metadata": {},
   "outputs": [
    {
     "data": {
      "text/html": [
       "<div>\n",
       "<style scoped>\n",
       "    .dataframe tbody tr th:only-of-type {\n",
       "        vertical-align: middle;\n",
       "    }\n",
       "\n",
       "    .dataframe tbody tr th {\n",
       "        vertical-align: top;\n",
       "    }\n",
       "\n",
       "    .dataframe thead th {\n",
       "        text-align: right;\n",
       "    }\n",
       "</style>\n",
       "<table border=\"1\" class=\"dataframe\">\n",
       "  <thead>\n",
       "    <tr style=\"text-align: right;\">\n",
       "      <th></th>\n",
       "      <th>question</th>\n",
       "      <th>answer_llm</th>\n",
       "      <th>answer_orig</th>\n",
       "      <th>document</th>\n",
       "      <th>course</th>\n",
       "    </tr>\n",
       "  </thead>\n",
       "  <tbody>\n",
       "    <tr>\n",
       "      <th>278</th>\n",
       "      <td>What is the code to read the housing dataset d...</td>\n",
       "      <td>The code to read the housing dataset directly ...</td>\n",
       "      <td>The dataset can be read directly to pandas dat...</td>\n",
       "      <td>491</td>\n",
       "      <td>machine-learning-zoomcamp</td>\n",
       "    </tr>\n",
       "  </tbody>\n",
       "</table>\n",
       "</div>"
      ],
      "text/plain": [
       "                                              question  \\\n",
       "278  What is the code to read the housing dataset d...   \n",
       "\n",
       "                                            answer_llm  \\\n",
       "278  The code to read the housing dataset directly ...   \n",
       "\n",
       "                                           answer_orig  document  \\\n",
       "278  The dataset can be read directly to pandas dat...       491   \n",
       "\n",
       "                        course  \n",
       "278  machine-learning-zoomcamp  "
      ]
     },
     "execution_count": 87,
     "metadata": {},
     "output_type": "execute_result"
    }
   ],
   "source": [
    "df_open_mistral_nemo = pd.DataFrame(rag_results_open_mistral_nemo)\n",
    "df_open_mistral_nemo.sample()"
   ]
  },
  {
   "cell_type": "code",
   "execution_count": 89,
   "id": "767d99ac-dd09-4b99-9455-d81ac3930c9a",
   "metadata": {},
   "outputs": [],
   "source": [
    "df_open_mistral_nemo.to_csv('data/results-mistral-nemo.csv', index=False)"
   ]
  },
  {
   "cell_type": "code",
   "execution_count": 91,
   "id": "33ca95bb-41ab-41b5-8996-bafeb182303c",
   "metadata": {},
   "outputs": [
    {
     "data": {
      "text/html": [
       "<div>\n",
       "<style scoped>\n",
       "    .dataframe tbody tr th:only-of-type {\n",
       "        vertical-align: middle;\n",
       "    }\n",
       "\n",
       "    .dataframe tbody tr th {\n",
       "        vertical-align: top;\n",
       "    }\n",
       "\n",
       "    .dataframe thead th {\n",
       "        text-align: right;\n",
       "    }\n",
       "</style>\n",
       "<table border=\"1\" class=\"dataframe\">\n",
       "  <thead>\n",
       "    <tr style=\"text-align: right;\">\n",
       "      <th></th>\n",
       "      <th>question</th>\n",
       "      <th>answer_llm</th>\n",
       "      <th>answer_orig</th>\n",
       "      <th>document</th>\n",
       "      <th>course</th>\n",
       "    </tr>\n",
       "  </thead>\n",
       "  <tbody>\n",
       "    <tr>\n",
       "      <th>0</th>\n",
       "      <td>How do I sign up for the course?</td>\n",
       "      <td>To sign up for the course, visit the following...</td>\n",
       "      <td>Machine Learning Zoomcamp FAQ\\nThe purpose of ...</td>\n",
       "      <td>435</td>\n",
       "      <td>machine-learning-zoomcamp</td>\n",
       "    </tr>\n",
       "    <tr>\n",
       "      <th>1</th>\n",
       "      <td>What is the purpose of this document?</td>\n",
       "      <td>The purpose of this document is to capture fre...</td>\n",
       "      <td>Machine Learning Zoomcamp FAQ\\nThe purpose of ...</td>\n",
       "      <td>435</td>\n",
       "      <td>machine-learning-zoomcamp</td>\n",
       "    </tr>\n",
       "    <tr>\n",
       "      <th>2</th>\n",
       "      <td>How is this document structured?</td>\n",
       "      <td>This document is structured as a FAQ (Frequent...</td>\n",
       "      <td>Machine Learning Zoomcamp FAQ\\nThe purpose of ...</td>\n",
       "      <td>435</td>\n",
       "      <td>machine-learning-zoomcamp</td>\n",
       "    </tr>\n",
       "    <tr>\n",
       "      <th>3</th>\n",
       "      <td>What is the link to the course GitHub repository?</td>\n",
       "      <td>The link to the course GitHub repository is no...</td>\n",
       "      <td>Machine Learning Zoomcamp FAQ\\nThe purpose of ...</td>\n",
       "      <td>435</td>\n",
       "      <td>machine-learning-zoomcamp</td>\n",
       "    </tr>\n",
       "    <tr>\n",
       "      <th>4</th>\n",
       "      <td>How do I access the course materials?</td>\n",
       "      <td>To access the course materials, go to the cour...</td>\n",
       "      <td>Machine Learning Zoomcamp FAQ\\nThe purpose of ...</td>\n",
       "      <td>435</td>\n",
       "      <td>machine-learning-zoomcamp</td>\n",
       "    </tr>\n",
       "    <tr>\n",
       "      <th>...</th>\n",
       "      <td>...</td>\n",
       "      <td>...</td>\n",
       "      <td>...</td>\n",
       "      <td>...</td>\n",
       "      <td>...</td>\n",
       "    </tr>\n",
       "    <tr>\n",
       "      <th>1411</th>\n",
       "      <td>Is TensorFlow 2.15 compatible with AWS?</td>\n",
       "      <td>Based on the provided context, TensorFlow 2.15...</td>\n",
       "      <td>Using the 2.14 version with python 3.11 works ...</td>\n",
       "      <td>720</td>\n",
       "      <td>machine-learning-zoomcamp</td>\n",
       "    </tr>\n",
       "    <tr>\n",
       "      <th>1412</th>\n",
       "      <td>What Python version is compatible with TensorF...</td>\n",
       "      <td>Based on the provided context, TensorFlow 2.4....</td>\n",
       "      <td>Using the 2.14 version with python 3.11 works ...</td>\n",
       "      <td>720</td>\n",
       "      <td>machine-learning-zoomcamp</td>\n",
       "    </tr>\n",
       "    <tr>\n",
       "      <th>1413</th>\n",
       "      <td>Can I use TensorFlow 2.4.4 with Python 3.11?</td>\n",
       "      <td>No, you cannot use TensorFlow 2.4.4 with Pytho...</td>\n",
       "      <td>Using the 2.14 version with python 3.11 works ...</td>\n",
       "      <td>720</td>\n",
       "      <td>machine-learning-zoomcamp</td>\n",
       "    </tr>\n",
       "    <tr>\n",
       "      <th>1414</th>\n",
       "      <td>What are the supported Python versions for Ten...</td>\n",
       "      <td>The supported Python versions for TensorFlow 2...</td>\n",
       "      <td>Using the 2.14 version with python 3.11 works ...</td>\n",
       "      <td>720</td>\n",
       "      <td>machine-learning-zoomcamp</td>\n",
       "    </tr>\n",
       "    <tr>\n",
       "      <th>1415</th>\n",
       "      <td>Why does the command 'aws ecr get-login --no-i...</td>\n",
       "      <td>The command `aws ecr get-login --no-include-em...</td>\n",
       "      <td>see here</td>\n",
       "      <td>721</td>\n",
       "      <td>machine-learning-zoomcamp</td>\n",
       "    </tr>\n",
       "  </tbody>\n",
       "</table>\n",
       "<p>1416 rows × 5 columns</p>\n",
       "</div>"
      ],
      "text/plain": [
       "                                               question  \\\n",
       "0                      How do I sign up for the course?   \n",
       "1                 What is the purpose of this document?   \n",
       "2                      How is this document structured?   \n",
       "3     What is the link to the course GitHub repository?   \n",
       "4                 How do I access the course materials?   \n",
       "...                                                 ...   \n",
       "1411            Is TensorFlow 2.15 compatible with AWS?   \n",
       "1412  What Python version is compatible with TensorF...   \n",
       "1413       Can I use TensorFlow 2.4.4 with Python 3.11?   \n",
       "1414  What are the supported Python versions for Ten...   \n",
       "1415  Why does the command 'aws ecr get-login --no-i...   \n",
       "\n",
       "                                             answer_llm  \\\n",
       "0     To sign up for the course, visit the following...   \n",
       "1     The purpose of this document is to capture fre...   \n",
       "2     This document is structured as a FAQ (Frequent...   \n",
       "3     The link to the course GitHub repository is no...   \n",
       "4     To access the course materials, go to the cour...   \n",
       "...                                                 ...   \n",
       "1411  Based on the provided context, TensorFlow 2.15...   \n",
       "1412  Based on the provided context, TensorFlow 2.4....   \n",
       "1413  No, you cannot use TensorFlow 2.4.4 with Pytho...   \n",
       "1414  The supported Python versions for TensorFlow 2...   \n",
       "1415  The command `aws ecr get-login --no-include-em...   \n",
       "\n",
       "                                            answer_orig  document  \\\n",
       "0     Machine Learning Zoomcamp FAQ\\nThe purpose of ...       435   \n",
       "1     Machine Learning Zoomcamp FAQ\\nThe purpose of ...       435   \n",
       "2     Machine Learning Zoomcamp FAQ\\nThe purpose of ...       435   \n",
       "3     Machine Learning Zoomcamp FAQ\\nThe purpose of ...       435   \n",
       "4     Machine Learning Zoomcamp FAQ\\nThe purpose of ...       435   \n",
       "...                                                 ...       ...   \n",
       "1411  Using the 2.14 version with python 3.11 works ...       720   \n",
       "1412  Using the 2.14 version with python 3.11 works ...       720   \n",
       "1413  Using the 2.14 version with python 3.11 works ...       720   \n",
       "1414  Using the 2.14 version with python 3.11 works ...       720   \n",
       "1415                                           see here       721   \n",
       "\n",
       "                         course  \n",
       "0     machine-learning-zoomcamp  \n",
       "1     machine-learning-zoomcamp  \n",
       "2     machine-learning-zoomcamp  \n",
       "3     machine-learning-zoomcamp  \n",
       "4     machine-learning-zoomcamp  \n",
       "...                         ...  \n",
       "1411  machine-learning-zoomcamp  \n",
       "1412  machine-learning-zoomcamp  \n",
       "1413  machine-learning-zoomcamp  \n",
       "1414  machine-learning-zoomcamp  \n",
       "1415  machine-learning-zoomcamp  \n",
       "\n",
       "[1416 rows x 5 columns]"
      ]
     },
     "execution_count": 91,
     "metadata": {},
     "output_type": "execute_result"
    }
   ],
   "source": [
    "df_open_mistral_nemo"
   ]
  },
  {
   "cell_type": "code",
   "execution_count": 92,
   "id": "ea19d600-0183-4238-9284-964da038c159",
   "metadata": {},
   "outputs": [],
   "source": [
    "def compute_similarity(record):\n",
    "    orig = record['answer_orig']\n",
    "    llm = record['answer_llm']\n",
    "    v_orig = model.encode(orig)\n",
    "    v_llm = model.encode(llm)\n",
    "\n",
    "    return v_llm.dot(v_orig)"
   ]
  },
  {
   "cell_type": "code",
   "execution_count": 99,
   "id": "353c7565-09bb-4d58-87ad-02b0a4d67e23",
   "metadata": {},
   "outputs": [],
   "source": [
    "df_open_mistral_nemo['answer_similarity'] = df_open_mistral_nemo.apply(compute_similarity, axis=1)"
   ]
  },
  {
   "cell_type": "code",
   "execution_count": 100,
   "id": "90412979-ceb5-4cca-8e47-fe173b6a80fe",
   "metadata": {},
   "outputs": [
    {
     "data": {
      "text/html": [
       "<div>\n",
       "<style scoped>\n",
       "    .dataframe tbody tr th:only-of-type {\n",
       "        vertical-align: middle;\n",
       "    }\n",
       "\n",
       "    .dataframe tbody tr th {\n",
       "        vertical-align: top;\n",
       "    }\n",
       "\n",
       "    .dataframe thead th {\n",
       "        text-align: right;\n",
       "    }\n",
       "</style>\n",
       "<table border=\"1\" class=\"dataframe\">\n",
       "  <thead>\n",
       "    <tr style=\"text-align: right;\">\n",
       "      <th></th>\n",
       "      <th>question</th>\n",
       "      <th>answer_llm</th>\n",
       "      <th>answer_orig</th>\n",
       "      <th>document</th>\n",
       "      <th>course</th>\n",
       "      <th>answer_similarity</th>\n",
       "    </tr>\n",
       "  </thead>\n",
       "  <tbody>\n",
       "    <tr>\n",
       "      <th>0</th>\n",
       "      <td>How do I sign up for the course?</td>\n",
       "      <td>To sign up for the course, visit the following...</td>\n",
       "      <td>Machine Learning Zoomcamp FAQ\\nThe purpose of ...</td>\n",
       "      <td>435</td>\n",
       "      <td>machine-learning-zoomcamp</td>\n",
       "      <td>0.375259</td>\n",
       "    </tr>\n",
       "    <tr>\n",
       "      <th>1</th>\n",
       "      <td>What is the purpose of this document?</td>\n",
       "      <td>The purpose of this document is to capture fre...</td>\n",
       "      <td>Machine Learning Zoomcamp FAQ\\nThe purpose of ...</td>\n",
       "      <td>435</td>\n",
       "      <td>machine-learning-zoomcamp</td>\n",
       "      <td>0.560441</td>\n",
       "    </tr>\n",
       "    <tr>\n",
       "      <th>2</th>\n",
       "      <td>How is this document structured?</td>\n",
       "      <td>This document is structured as a FAQ (Frequent...</td>\n",
       "      <td>Machine Learning Zoomcamp FAQ\\nThe purpose of ...</td>\n",
       "      <td>435</td>\n",
       "      <td>machine-learning-zoomcamp</td>\n",
       "      <td>0.589430</td>\n",
       "    </tr>\n",
       "    <tr>\n",
       "      <th>3</th>\n",
       "      <td>What is the link to the course GitHub repository?</td>\n",
       "      <td>The link to the course GitHub repository is no...</td>\n",
       "      <td>Machine Learning Zoomcamp FAQ\\nThe purpose of ...</td>\n",
       "      <td>435</td>\n",
       "      <td>machine-learning-zoomcamp</td>\n",
       "      <td>0.065289</td>\n",
       "    </tr>\n",
       "    <tr>\n",
       "      <th>4</th>\n",
       "      <td>How do I access the course materials?</td>\n",
       "      <td>To access the course materials, go to the cour...</td>\n",
       "      <td>Machine Learning Zoomcamp FAQ\\nThe purpose of ...</td>\n",
       "      <td>435</td>\n",
       "      <td>machine-learning-zoomcamp</td>\n",
       "      <td>0.455021</td>\n",
       "    </tr>\n",
       "    <tr>\n",
       "      <th>...</th>\n",
       "      <td>...</td>\n",
       "      <td>...</td>\n",
       "      <td>...</td>\n",
       "      <td>...</td>\n",
       "      <td>...</td>\n",
       "      <td>...</td>\n",
       "    </tr>\n",
       "    <tr>\n",
       "      <th>1411</th>\n",
       "      <td>Is TensorFlow 2.15 compatible with AWS?</td>\n",
       "      <td>Based on the provided context, TensorFlow 2.15...</td>\n",
       "      <td>Using the 2.14 version with python 3.11 works ...</td>\n",
       "      <td>720</td>\n",
       "      <td>machine-learning-zoomcamp</td>\n",
       "      <td>0.515990</td>\n",
       "    </tr>\n",
       "    <tr>\n",
       "      <th>1412</th>\n",
       "      <td>What Python version is compatible with TensorF...</td>\n",
       "      <td>Based on the provided context, TensorFlow 2.4....</td>\n",
       "      <td>Using the 2.14 version with python 3.11 works ...</td>\n",
       "      <td>720</td>\n",
       "      <td>machine-learning-zoomcamp</td>\n",
       "      <td>0.765405</td>\n",
       "    </tr>\n",
       "    <tr>\n",
       "      <th>1413</th>\n",
       "      <td>Can I use TensorFlow 2.4.4 with Python 3.11?</td>\n",
       "      <td>No, you cannot use TensorFlow 2.4.4 with Pytho...</td>\n",
       "      <td>Using the 2.14 version with python 3.11 works ...</td>\n",
       "      <td>720</td>\n",
       "      <td>machine-learning-zoomcamp</td>\n",
       "      <td>0.659902</td>\n",
       "    </tr>\n",
       "    <tr>\n",
       "      <th>1414</th>\n",
       "      <td>What are the supported Python versions for Ten...</td>\n",
       "      <td>The supported Python versions for TensorFlow 2...</td>\n",
       "      <td>Using the 2.14 version with python 3.11 works ...</td>\n",
       "      <td>720</td>\n",
       "      <td>machine-learning-zoomcamp</td>\n",
       "      <td>0.733742</td>\n",
       "    </tr>\n",
       "    <tr>\n",
       "      <th>1415</th>\n",
       "      <td>Why does the command 'aws ecr get-login --no-i...</td>\n",
       "      <td>The command `aws ecr get-login --no-include-em...</td>\n",
       "      <td>see here</td>\n",
       "      <td>721</td>\n",
       "      <td>machine-learning-zoomcamp</td>\n",
       "      <td>-0.090420</td>\n",
       "    </tr>\n",
       "  </tbody>\n",
       "</table>\n",
       "<p>1416 rows × 6 columns</p>\n",
       "</div>"
      ],
      "text/plain": [
       "                                               question  \\\n",
       "0                      How do I sign up for the course?   \n",
       "1                 What is the purpose of this document?   \n",
       "2                      How is this document structured?   \n",
       "3     What is the link to the course GitHub repository?   \n",
       "4                 How do I access the course materials?   \n",
       "...                                                 ...   \n",
       "1411            Is TensorFlow 2.15 compatible with AWS?   \n",
       "1412  What Python version is compatible with TensorF...   \n",
       "1413       Can I use TensorFlow 2.4.4 with Python 3.11?   \n",
       "1414  What are the supported Python versions for Ten...   \n",
       "1415  Why does the command 'aws ecr get-login --no-i...   \n",
       "\n",
       "                                             answer_llm  \\\n",
       "0     To sign up for the course, visit the following...   \n",
       "1     The purpose of this document is to capture fre...   \n",
       "2     This document is structured as a FAQ (Frequent...   \n",
       "3     The link to the course GitHub repository is no...   \n",
       "4     To access the course materials, go to the cour...   \n",
       "...                                                 ...   \n",
       "1411  Based on the provided context, TensorFlow 2.15...   \n",
       "1412  Based on the provided context, TensorFlow 2.4....   \n",
       "1413  No, you cannot use TensorFlow 2.4.4 with Pytho...   \n",
       "1414  The supported Python versions for TensorFlow 2...   \n",
       "1415  The command `aws ecr get-login --no-include-em...   \n",
       "\n",
       "                                            answer_orig  document  \\\n",
       "0     Machine Learning Zoomcamp FAQ\\nThe purpose of ...       435   \n",
       "1     Machine Learning Zoomcamp FAQ\\nThe purpose of ...       435   \n",
       "2     Machine Learning Zoomcamp FAQ\\nThe purpose of ...       435   \n",
       "3     Machine Learning Zoomcamp FAQ\\nThe purpose of ...       435   \n",
       "4     Machine Learning Zoomcamp FAQ\\nThe purpose of ...       435   \n",
       "...                                                 ...       ...   \n",
       "1411  Using the 2.14 version with python 3.11 works ...       720   \n",
       "1412  Using the 2.14 version with python 3.11 works ...       720   \n",
       "1413  Using the 2.14 version with python 3.11 works ...       720   \n",
       "1414  Using the 2.14 version with python 3.11 works ...       720   \n",
       "1415                                           see here       721   \n",
       "\n",
       "                         course  answer_similarity  \n",
       "0     machine-learning-zoomcamp           0.375259  \n",
       "1     machine-learning-zoomcamp           0.560441  \n",
       "2     machine-learning-zoomcamp           0.589430  \n",
       "3     machine-learning-zoomcamp           0.065289  \n",
       "4     machine-learning-zoomcamp           0.455021  \n",
       "...                         ...                ...  \n",
       "1411  machine-learning-zoomcamp           0.515990  \n",
       "1412  machine-learning-zoomcamp           0.765405  \n",
       "1413  machine-learning-zoomcamp           0.659902  \n",
       "1414  machine-learning-zoomcamp           0.733742  \n",
       "1415  machine-learning-zoomcamp          -0.090420  \n",
       "\n",
       "[1416 rows x 6 columns]"
      ]
     },
     "execution_count": 100,
     "metadata": {},
     "output_type": "execute_result"
    }
   ],
   "source": [
    "df_open_mistral_nemo"
   ]
  },
  {
   "cell_type": "code",
   "execution_count": 106,
   "id": "830e8820-5fd5-4899-a155-fa4f3176f83a",
   "metadata": {},
   "outputs": [
    {
     "data": {
      "text/plain": [
       "count    1416.000000\n",
       "mean        0.651427\n",
       "std         0.210563\n",
       "min        -0.106471\n",
       "25%         0.540617\n",
       "50%         0.700765\n",
       "75%         0.805457\n",
       "max         1.000000\n",
       "Name: answer_similarity, dtype: float64"
      ]
     },
     "execution_count": 106,
     "metadata": {},
     "output_type": "execute_result"
    }
   ],
   "source": [
    "df_open_mistral_nemo.answer_similarity.describe()"
   ]
  },
  {
   "cell_type": "code",
   "execution_count": 108,
   "id": "31ea1b78-3b01-4d51-9a47-c26432d5ea41",
   "metadata": {},
   "outputs": [
    {
     "name": "stderr",
     "output_type": "stream",
     "text": [
      "huggingface/tokenizers: The current process just got forked, after parallelism has already been used. Disabling parallelism to avoid deadlocks...\n",
      "To disable this warning, you can either:\n",
      "\t- Avoid using `tokenizers` before the fork if possible\n",
      "\t- Explicitly set the environment variable TOKENIZERS_PARALLELISM=(true | false)\n"
     ]
    }
   ],
   "source": [
    "!pip install -q seaborn"
   ]
  },
  {
   "cell_type": "code",
   "execution_count": 109,
   "id": "73ed5baa-ffa6-4cdb-b0c7-df60eb2faf80",
   "metadata": {},
   "outputs": [],
   "source": [
    "import seaborn as sns"
   ]
  },
  {
   "cell_type": "code",
   "execution_count": 110,
   "id": "a806273d-a8d1-4c1d-bcce-63b524a6734d",
   "metadata": {},
   "outputs": [
    {
     "name": "stderr",
     "output_type": "stream",
     "text": [
      "/tmp/ipykernel_26654/2754501180.py:1: UserWarning: \n",
      "\n",
      "`distplot` is a deprecated function and will be removed in seaborn v0.14.0.\n",
      "\n",
      "Please adapt your code to use either `displot` (a figure-level function with\n",
      "similar flexibility) or `histplot` (an axes-level function for histograms).\n",
      "\n",
      "For a guide to updating your code to use the new functions, please see\n",
      "https://gist.github.com/mwaskom/de44147ed2974457ad6372750bbe5751\n",
      "\n",
      "  sns.distplot(df_open_mistral_nemo.answer_similarity)\n"
     ]
    },
    {
     "data": {
      "text/plain": [
       "<Axes: xlabel='answer_similarity', ylabel='Density'>"
      ]
     },
     "execution_count": 110,
     "metadata": {},
     "output_type": "execute_result"
    },
    {
     "data": {
      "image/png": "[encoded data removed]",
      "text/plain": [
       "<Figure size 640x480 with 1 Axes>"
      ]
     },
     "metadata": {},
     "output_type": "display_data"
    }
   ],
   "source": [
    "sns.distplot(df_open_mistral_nemo.answer_similarity)"
   ]
  },
  {
   "cell_type": "code",
   "execution_count": null,
   "id": "e73e488f-1790-4693-8270-c95570ac05b6",
   "metadata": {},
   "outputs": [],
   "source": []
  }
 ],
 "metadata": {
  "kernelspec": {
   "display_name": "Python 3 (ipykernel)",
   "language": "python",
   "name": "python3"
  },
  "language_info": {
   "codemirror_mode": {
    "name": "ipython",
    "version": 3
   },
   "file_extension": ".py",
   "mimetype": "text/x-python",
   "name": "python",
   "nbconvert_exporter": "python",
   "pygments_lexer": "ipython3",
   "version": "3.12.5"
  }
 },
 "nbformat": 4,
 "nbformat_minor": 5
}
